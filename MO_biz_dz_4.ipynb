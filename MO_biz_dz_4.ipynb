{
 "cells": [
  {
   "cell_type": "code",
   "execution_count": 1,
   "id": "d38f72ec",
   "metadata": {},
   "outputs": [
    {
     "name": "stdout",
     "output_type": "stream",
     "text": [
      "Requirement already satisfied: scikit-uplift in c:\\users\\home\\appdata\\roaming\\python\\python38\\site-packages (0.4.1)\n",
      "Requirement already satisfied: catboost==0.22 in c:\\users\\home\\appdata\\roaming\\python\\python38\\site-packages (0.22)\n",
      "Requirement already satisfied: graphviz in d:\\anaconda\\lib\\site-packages (from catboost==0.22) (0.17)\n",
      "Requirement already satisfied: six in d:\\anaconda\\lib\\site-packages (from catboost==0.22) (1.15.0)\n",
      "Requirement already satisfied: plotly in d:\\anaconda\\lib\\site-packages (from catboost==0.22) (5.1.0)\n",
      "Requirement already satisfied: numpy>=1.16.0 in d:\\anaconda\\lib\\site-packages (from catboost==0.22) (1.20.1)\n",
      "Requirement already satisfied: scipy in d:\\anaconda\\lib\\site-packages (from catboost==0.22) (1.6.2)\n",
      "Requirement already satisfied: matplotlib in d:\\anaconda\\lib\\site-packages (from catboost==0.22) (3.3.4)\n",
      "Requirement already satisfied: pandas>=0.24.0 in d:\\anaconda\\lib\\site-packages (from catboost==0.22) (1.2.4)\n",
      "Requirement already satisfied: pytz>=2017.3 in d:\\anaconda\\lib\\site-packages (from pandas>=0.24.0->catboost==0.22) (2021.1)\n",
      "Requirement already satisfied: python-dateutil>=2.7.3 in d:\\anaconda\\lib\\site-packages (from pandas>=0.24.0->catboost==0.22) (2.8.1)\n",
      "Requirement already satisfied: tqdm in d:\\anaconda\\lib\\site-packages (from scikit-uplift) (4.59.0)\n",
      "Requirement already satisfied: requests in d:\\anaconda\\lib\\site-packages (from scikit-uplift) (2.25.1)\n",
      "Requirement already satisfied: scikit-learn>=0.21.0 in d:\\anaconda\\lib\\site-packages (from scikit-uplift) (0.24.1)\n",
      "Requirement already satisfied: threadpoolctl>=2.0.0 in d:\\anaconda\\lib\\site-packages (from scikit-learn>=0.21.0->scikit-uplift) (2.1.0)\n",
      "Requirement already satisfied: joblib>=0.11 in d:\\anaconda\\lib\\site-packages (from scikit-learn>=0.21.0->scikit-uplift) (1.0.1)\n",
      "Requirement already satisfied: pillow>=6.2.0 in d:\\anaconda\\lib\\site-packages (from matplotlib->catboost==0.22) (8.2.0)\n",
      "Requirement already satisfied: kiwisolver>=1.0.1 in d:\\anaconda\\lib\\site-packages (from matplotlib->catboost==0.22) (1.3.1)\n",
      "Requirement already satisfied: cycler>=0.10 in d:\\anaconda\\lib\\site-packages (from matplotlib->catboost==0.22) (0.10.0)\n",
      "Requirement already satisfied: pyparsing!=2.0.4,!=2.1.2,!=2.1.6,>=2.0.3 in d:\\anaconda\\lib\\site-packages (from matplotlib->catboost==0.22) (2.4.7)\n",
      "Requirement already satisfied: tenacity>=6.2.0 in d:\\anaconda\\lib\\site-packages (from plotly->catboost==0.22) (8.0.1)\n",
      "Requirement already satisfied: urllib3<1.27,>=1.21.1 in d:\\anaconda\\lib\\site-packages (from requests->scikit-uplift) (1.26.4)\n",
      "Requirement already satisfied: certifi>=2017.4.17 in d:\\anaconda\\lib\\site-packages (from requests->scikit-uplift) (2020.12.5)\n",
      "Requirement already satisfied: chardet<5,>=3.0.2 in d:\\anaconda\\lib\\site-packages (from requests->scikit-uplift) (4.0.0)\n",
      "Requirement already satisfied: idna<3,>=2.5 in d:\\anaconda\\lib\\site-packages (from requests->scikit-uplift) (2.10)\n"
     ]
    }
   ],
   "source": [
    "!pip install scikit-uplift catboost==0.22 --user"
   ]
  },
  {
   "cell_type": "code",
   "execution_count": 2,
   "id": "8ffe52a9",
   "metadata": {},
   "outputs": [
    {
     "name": "stdout",
     "output_type": "stream",
     "text": [
      "Collecting causalml"
     ]
    },
    {
     "name": "stderr",
     "output_type": "stream",
     "text": [
      "  ERROR: Command errored out with exit status 1:\n",
      "   command: 'D:\\Anaconda\\python.exe' -u -c 'import sys, setuptools, tokenize; sys.argv[0] = '\"'\"'C:\\\\Users\\\\Home\\\\AppData\\\\Local\\\\Temp\\\\pip-install-1umw025s\\\\causalml_26df85067da9428e925cfd4da30f9c53\\\\setup.py'\"'\"'; __file__='\"'\"'C:\\\\Users\\\\Home\\\\AppData\\\\Local\\\\Temp\\\\pip-install-1umw025s\\\\causalml_26df85067da9428e925cfd4da30f9c53\\\\setup.py'\"'\"';f=getattr(tokenize, '\"'\"'open'\"'\"', open)(__file__);code=f.read().replace('\"'\"'\\r\\n'\"'\"', '\"'\"'\\n'\"'\"');f.close();exec(compile(code, __file__, '\"'\"'exec'\"'\"'))' bdist_wheel -d 'C:\\Users\\Home\\AppData\\Local\\Temp\\pip-wheel-93ktivj0'\n",
      "       cwd: C:\\Users\\Home\\AppData\\Local\\Temp\\pip-install-1umw025s\\causalml_26df85067da9428e925cfd4da30f9c53\\\n",
      "  Complete output (78 lines):\n",
      "  running bdist_wheel\n",
      "  running build\n",
      "  running build_py\n",
      "  creating build\n",
      "  creating build\\lib.win-amd64-3.8\n",
      "  creating build\\lib.win-amd64-3.8\\causalml\n",
      "  copying causalml\\features.py -> build\\lib.win-amd64-3.8\\causalml\n",
      "  copying causalml\\match.py -> build\\lib.win-amd64-3.8\\causalml\n",
      "  copying causalml\\propensity.py -> build\\lib.win-amd64-3.8\\causalml\n",
      "  copying causalml\\__init__.py -> build\\lib.win-amd64-3.8\\causalml\n",
      "  creating build\\lib.win-amd64-3.8\\tests\n",
      "  copying tests\\conftest.py -> build\\lib.win-amd64-3.8\\tests\n",
      "  copying tests\\const.py -> build\\lib.win-amd64-3.8\\tests\n",
      "  copying tests\\test_cevae.py -> build\\lib.win-amd64-3.8\\tests\n",
      "  copying tests\\test_counterfactual_unit_selection.py -> build\\lib.win-amd64-3.8\\tests\n",
      "  copying tests\\test_datasets.py -> build\\lib.win-amd64-3.8\\tests\n",
      "  copying tests\\test_features.py -> build\\lib.win-amd64-3.8\\tests\n",
      "  copying tests\\test_ivlearner.py -> build\\lib.win-amd64-3.8\\tests\n",
      "  copying tests\\test_match.py -> build\\lib.win-amd64-3.8\\tests\n",
      "  copying tests\\test_meta_learners.py -> build\\lib.win-amd64-3.8\\tests\n",
      "  copying tests\\test_propensity.py -> build\\lib.win-amd64-3.8\\tests\n",
      "  copying tests\\test_sensitivity.py -> build\\lib.win-amd64-3.8\\tests\n",
      "  copying tests\\test_uplift_trees.py -> build\\lib.win-amd64-3.8\\tests\n",
      "  copying tests\\test_utils.py -> build\\lib.win-amd64-3.8\\tests\n",
      "  copying tests\\test_value_optimization.py -> build\\lib.win-amd64-3.8\\tests\n",
      "  copying tests\\__init__.py -> build\\lib.win-amd64-3.8\\tests\n",
      "  creating build\\lib.win-amd64-3.8\\causalml\\dataset\n",
      "  copying causalml\\dataset\\classification.py -> build\\lib.win-amd64-3.8\\causalml\\dataset\n",
      "  copying causalml\\dataset\\regression.py -> build\\lib.win-amd64-3.8\\causalml\\dataset\n",
      "  copying causalml\\dataset\\synthetic.py -> build\\lib.win-amd64-3.8\\causalml\\dataset\n"
     ]
    },
    {
     "name": "stdout",
     "output_type": "stream",
     "text": [
      "\n",
      "  Using cached causalml-0.12.3.tar.gz (406 kB)\n",
      "Requirement already satisfied: setuptools>=41.0.0 in d:\\anaconda\\lib\\site-packages (from causalml) (52.0.0.post20210125)\n",
      "Requirement already satisfied: pip>=10.0 in d:\\anaconda\\lib\\site-packages (from causalml) (21.0.1)\n",
      "Requirement already satisfied: numpy>=1.18.5 in d:\\anaconda\\lib\\site-packages (from causalml) (1.20.1)\n",
      "Requirement already satisfied: scipy>=1.4.1 in d:\\anaconda\\lib\\site-packages (from causalml) (1.6.2)\n",
      "Requirement already satisfied: matplotlib in d:\\anaconda\\lib\\site-packages (from causalml) (3.3.4)\n",
      "Requirement already satisfied: pandas>=0.24.1 in d:\\anaconda\\lib\\site-packages (from causalml) (1.2.4)\n",
      "Requirement already satisfied: scikit-learn>=0.22.0 in d:\\anaconda\\lib\\site-packages (from causalml) (0.24.1)\n",
      "Requirement already satisfied: statsmodels>=0.9.0 in d:\\anaconda\\lib\\site-packages (from causalml) (0.12.2)\n",
      "Requirement already satisfied: seaborn in d:\\anaconda\\lib\\site-packages (from causalml) (0.11.1)\n",
      "Requirement already satisfied: Cython>=0.28.0 in d:\\anaconda\\lib\\site-packages (from causalml) (0.29.28)\n",
      "Requirement already satisfied: xgboost in d:\\anaconda\\lib\\site-packages (from causalml) (1.6.1)\n",
      "Requirement already satisfied: pydotplus in d:\\anaconda\\lib\\site-packages (from causalml) (2.0.2)\n",
      "Requirement already satisfied: tqdm in d:\\anaconda\\lib\\site-packages (from causalml) (4.59.0)\n",
      "Requirement already satisfied: shap in d:\\anaconda\\lib\\site-packages (from causalml) (0.41.0)\n",
      "Requirement already satisfied: dill in d:\\anaconda\\lib\\site-packages (from causalml) (0.3.5.1)\n",
      "Requirement already satisfied: lightgbm in d:\\anaconda\\lib\\site-packages (from causalml) (3.3.2)\n",
      "Requirement already satisfied: pygam in d:\\anaconda\\lib\\site-packages (from causalml) (0.8.0)\n",
      "Requirement already satisfied: packaging in d:\\anaconda\\lib\\site-packages (from causalml) (21.3)\n",
      "Requirement already satisfied: torch in d:\\anaconda\\lib\\site-packages (from causalml) (1.12.0)\n",
      "Requirement already satisfied: pyro-ppl in d:\\anaconda\\lib\\site-packages (from causalml) (1.8.1)\n",
      "Requirement already satisfied: graphviz in d:\\anaconda\\lib\\site-packages (from causalml) (0.17)\n",
      "Requirement already satisfied: python-dateutil>=2.7.3 in d:\\anaconda\\lib\\site-packages (from pandas>=0.24.1->causalml) (2.8.1)\n",
      "Requirement already satisfied: pytz>=2017.3 in d:\\anaconda\\lib\\site-packages (from pandas>=0.24.1->causalml) (2021.1)\n",
      "Requirement already satisfied: six>=1.5 in d:\\anaconda\\lib\\site-packages (from python-dateutil>=2.7.3->pandas>=0.24.1->causalml) (1.15.0)\n",
      "Requirement already satisfied: threadpoolctl>=2.0.0 in d:\\anaconda\\lib\\site-packages (from scikit-learn>=0.22.0->causalml) (2.1.0)\n",
      "Requirement already satisfied: joblib>=0.11 in d:\\anaconda\\lib\\site-packages (from scikit-learn>=0.22.0->causalml) (1.0.1)\n",
      "Requirement already satisfied: patsy>=0.5 in d:\\anaconda\\lib\\site-packages (from statsmodels>=0.9.0->causalml) (0.5.1)\n",
      "Requirement already satisfied: wheel in d:\\anaconda\\lib\\site-packages (from lightgbm->causalml) (0.36.2)\n",
      "Requirement already satisfied: pillow>=6.2.0 in d:\\anaconda\\lib\\site-packages (from matplotlib->causalml) (8.2.0)\n",
      "Requirement already satisfied: kiwisolver>=1.0.1 in d:\\anaconda\\lib\\site-packages (from matplotlib->causalml) (1.3.1)\n",
      "Requirement already satisfied: cycler>=0.10 in d:\\anaconda\\lib\\site-packages (from matplotlib->causalml) (0.10.0)\n",
      "Requirement already satisfied: pyparsing!=2.0.4,!=2.1.2,!=2.1.6,>=2.0.3 in d:\\anaconda\\lib\\site-packages (from matplotlib->causalml) (2.4.7)\n",
      "Requirement already satisfied: progressbar2 in d:\\anaconda\\lib\\site-packages (from pygam->causalml) (4.0.0)\n",
      "Requirement already satisfied: future in d:\\anaconda\\lib\\site-packages (from pygam->causalml) (0.18.2)\n",
      "Requirement already satisfied: python-utils>=3.0.0 in d:\\anaconda\\lib\\site-packages (from progressbar2->pygam->causalml) (3.3.3)\n",
      "Requirement already satisfied: opt-einsum>=2.3.2 in d:\\anaconda\\lib\\site-packages (from pyro-ppl->causalml) (3.3.0)\n",
      "Requirement already satisfied: pyro-api>=0.1.1 in d:\\anaconda\\lib\\site-packages (from pyro-ppl->causalml) (0.1.2)\n",
      "Requirement already satisfied: typing-extensions in d:\\anaconda\\lib\\site-packages (from torch->causalml) (3.7.4.3)\n",
      "Requirement already satisfied: slicer==0.0.7 in d:\\anaconda\\lib\\site-packages (from shap->causalml) (0.0.7)\n",
      "Requirement already satisfied: cloudpickle in d:\\anaconda\\lib\\site-packages (from shap->causalml) (1.6.0)\n",
      "Requirement already satisfied: numba in d:\\anaconda\\lib\\site-packages (from shap->causalml) (0.53.1)\n",
      "Requirement already satisfied: llvmlite<0.37,>=0.36.0rc1 in d:\\anaconda\\lib\\site-packages (from numba->shap->causalml) (0.36.0)\n",
      "Building wheels for collected packages: causalml\n",
      "  Building wheel for causalml (setup.py): started\n",
      "  Building wheel for causalml (setup.py): finished with status 'error'\n",
      "  Running setup.py clean for causalml\n",
      "Failed to build causalml\n",
      "Installing collected packages: causalml\n",
      "    Running setup.py install for causalml: started\n",
      "    Running setup.py install for causalml: finished with status 'error'\n"
     ]
    },
    {
     "name": "stderr",
     "output_type": "stream",
     "text": [
      "  copying causalml\\dataset\\__init__.py -> build\\lib.win-amd64-3.8\\causalml\\dataset\n",
      "  creating build\\lib.win-amd64-3.8\\causalml\\feature_selection\n",
      "  copying causalml\\feature_selection\\filters.py -> build\\lib.win-amd64-3.8\\causalml\\feature_selection\n",
      "  copying causalml\\feature_selection\\__init__.py -> build\\lib.win-amd64-3.8\\causalml\\feature_selection\n",
      "  creating build\\lib.win-amd64-3.8\\causalml\\inference\n",
      "  copying causalml\\inference\\__init__.py -> build\\lib.win-amd64-3.8\\causalml\\inference\n",
      "  creating build\\lib.win-amd64-3.8\\causalml\\metrics\n",
      "  copying causalml\\metrics\\classification.py -> build\\lib.win-amd64-3.8\\causalml\\metrics\n",
      "  copying causalml\\metrics\\const.py -> build\\lib.win-amd64-3.8\\causalml\\metrics\n",
      "  copying causalml\\metrics\\regression.py -> build\\lib.win-amd64-3.8\\causalml\\metrics\n",
      "  copying causalml\\metrics\\sensitivity.py -> build\\lib.win-amd64-3.8\\causalml\\metrics\n",
      "  copying causalml\\metrics\\visualize.py -> build\\lib.win-amd64-3.8\\causalml\\metrics\n",
      "  copying causalml\\metrics\\__init__.py -> build\\lib.win-amd64-3.8\\causalml\\metrics\n",
      "  creating build\\lib.win-amd64-3.8\\causalml\\optimize\n",
      "  copying causalml\\optimize\\policylearner.py -> build\\lib.win-amd64-3.8\\causalml\\optimize\n",
      "  copying causalml\\optimize\\unit_selection.py -> build\\lib.win-amd64-3.8\\causalml\\optimize\n",
      "  copying causalml\\optimize\\utils.py -> build\\lib.win-amd64-3.8\\causalml\\optimize\n",
      "  copying causalml\\optimize\\value_optimization.py -> build\\lib.win-amd64-3.8\\causalml\\optimize\n",
      "  copying causalml\\optimize\\__init__.py -> build\\lib.win-amd64-3.8\\causalml\\optimize\n",
      "  creating build\\lib.win-amd64-3.8\\causalml\\inference\\iv\n",
      "  copying causalml\\inference\\iv\\drivlearner.py -> build\\lib.win-amd64-3.8\\causalml\\inference\\iv\n",
      "  copying causalml\\inference\\iv\\iv_regression.py -> build\\lib.win-amd64-3.8\\causalml\\inference\\iv\n",
      "  copying causalml\\inference\\iv\\__init__.py -> build\\lib.win-amd64-3.8\\causalml\\inference\\iv\n",
      "  creating build\\lib.win-amd64-3.8\\causalml\\inference\\meta\n",
      "  copying causalml\\inference\\meta\\base.py -> build\\lib.win-amd64-3.8\\causalml\\inference\\meta\n",
      "  copying causalml\\inference\\meta\\drlearner.py -> build\\lib.win-amd64-3.8\\causalml\\inference\\meta\n",
      "  copying causalml\\inference\\meta\\explainer.py -> build\\lib.win-amd64-3.8\\causalml\\inference\\meta\n",
      "  copying causalml\\inference\\meta\\rlearner.py -> build\\lib.win-amd64-3.8\\causalml\\inference\\meta\n",
      "  copying causalml\\inference\\meta\\slearner.py -> build\\lib.win-amd64-3.8\\causalml\\inference\\meta\n",
      "  copying causalml\\inference\\meta\\tlearner.py -> build\\lib.win-amd64-3.8\\causalml\\inference\\meta\n",
      "  copying causalml\\inference\\meta\\tmle.py -> build\\lib.win-amd64-3.8\\causalml\\inference\\meta\n",
      "  copying causalml\\inference\\meta\\utils.py -> build\\lib.win-amd64-3.8\\causalml\\inference\\meta\n",
      "  copying causalml\\inference\\meta\\xlearner.py -> build\\lib.win-amd64-3.8\\causalml\\inference\\meta\n",
      "  copying causalml\\inference\\meta\\__init__.py -> build\\lib.win-amd64-3.8\\causalml\\inference\\meta\n",
      "  creating build\\lib.win-amd64-3.8\\causalml\\inference\\nn\n",
      "  copying causalml\\inference\\nn\\cevae.py -> build\\lib.win-amd64-3.8\\causalml\\inference\\nn\n",
      "  copying causalml\\inference\\nn\\__init__.py -> build\\lib.win-amd64-3.8\\causalml\\inference\\nn\n",
      "  creating build\\lib.win-amd64-3.8\\causalml\\inference\\tf\n",
      "  copying causalml\\inference\\tf\\dragonnet.py -> build\\lib.win-amd64-3.8\\causalml\\inference\\tf\n",
      "  copying causalml\\inference\\tf\\utils.py -> build\\lib.win-amd64-3.8\\causalml\\inference\\tf\n",
      "  copying causalml\\inference\\tf\\__init__.py -> build\\lib.win-amd64-3.8\\causalml\\inference\\tf\n",
      "  creating build\\lib.win-amd64-3.8\\causalml\\inference\\tree\n",
      "  copying causalml\\inference\\tree\\plot.py -> build\\lib.win-amd64-3.8\\causalml\\inference\\tree\n",
      "  copying causalml\\inference\\tree\\utils.py -> build\\lib.win-amd64-3.8\\causalml\\inference\\tree\n",
      "  copying causalml\\inference\\tree\\__init__.py -> build\\lib.win-amd64-3.8\\causalml\\inference\\tree\n",
      "  running build_ext\n",
      "  building 'causalml.inference.tree.causaltree' extension\n",
      "  error: Microsoft Visual C++ 14.0 or greater is required. Get it with \"Microsoft C++ Build Tools\": https://visualstudio.microsoft.com/visual-cpp-build-tools/\n",
      "  ----------------------------------------\n",
      "  ERROR: Failed building wheel for causalml\n",
      "    ERROR: Command errored out with exit status 1:\n",
      "     command: 'D:\\Anaconda\\python.exe' -u -c 'import sys, setuptools, tokenize; sys.argv[0] = '\"'\"'C:\\\\Users\\\\Home\\\\AppData\\\\Local\\\\Temp\\\\pip-install-1umw025s\\\\causalml_26df85067da9428e925cfd4da30f9c53\\\\setup.py'\"'\"'; __file__='\"'\"'C:\\\\Users\\\\Home\\\\AppData\\\\Local\\\\Temp\\\\pip-install-1umw025s\\\\causalml_26df85067da9428e925cfd4da30f9c53\\\\setup.py'\"'\"';f=getattr(tokenize, '\"'\"'open'\"'\"', open)(__file__);code=f.read().replace('\"'\"'\\r\\n'\"'\"', '\"'\"'\\n'\"'\"');f.close();exec(compile(code, __file__, '\"'\"'exec'\"'\"'))' install --record 'C:\\Users\\Home\\AppData\\Local\\Temp\\pip-record-ucdget60\\install-record.txt' --single-version-externally-managed --compile --install-headers 'D:\\Anaconda\\Include\\causalml'\n",
      "         cwd: C:\\Users\\Home\\AppData\\Local\\Temp\\pip-install-1umw025s\\causalml_26df85067da9428e925cfd4da30f9c53\\\n",
      "    Complete output (78 lines):\n",
      "    running install\n",
      "    running build\n",
      "    running build_py\n",
      "    creating build\n",
      "    creating build\\lib.win-amd64-3.8\n",
      "    creating build\\lib.win-amd64-3.8\\causalml\n",
      "    copying causalml\\features.py -> build\\lib.win-amd64-3.8\\causalml\n",
      "    copying causalml\\match.py -> build\\lib.win-amd64-3.8\\causalml\n",
      "    copying causalml\\propensity.py -> build\\lib.win-amd64-3.8\\causalml\n",
      "    copying causalml\\__init__.py -> build\\lib.win-amd64-3.8\\causalml\n",
      "    creating build\\lib.win-amd64-3.8\\tests\n",
      "    copying tests\\conftest.py -> build\\lib.win-amd64-3.8\\tests\n",
      "    copying tests\\const.py -> build\\lib.win-amd64-3.8\\tests\n",
      "    copying tests\\test_cevae.py -> build\\lib.win-amd64-3.8\\tests\n",
      "    copying tests\\test_counterfactual_unit_selection.py -> build\\lib.win-amd64-3.8\\tests\n",
      "    copying tests\\test_datasets.py -> build\\lib.win-amd64-3.8\\tests\n",
      "    copying tests\\test_features.py -> build\\lib.win-amd64-3.8\\tests\n",
      "    copying tests\\test_ivlearner.py -> build\\lib.win-amd64-3.8\\tests\n",
      "    copying tests\\test_match.py -> build\\lib.win-amd64-3.8\\tests\n",
      "    copying tests\\test_meta_learners.py -> build\\lib.win-amd64-3.8\\tests\n",
      "    copying tests\\test_propensity.py -> build\\lib.win-amd64-3.8\\tests\n",
      "    copying tests\\test_sensitivity.py -> build\\lib.win-amd64-3.8\\tests\n",
      "    copying tests\\test_uplift_trees.py -> build\\lib.win-amd64-3.8\\tests\n",
      "    copying tests\\test_utils.py -> build\\lib.win-amd64-3.8\\tests\n",
      "    copying tests\\test_value_optimization.py -> build\\lib.win-amd64-3.8\\tests\n",
      "    copying tests\\__init__.py -> build\\lib.win-amd64-3.8\\tests\n",
      "    creating build\\lib.win-amd64-3.8\\causalml\\dataset\n",
      "    copying causalml\\dataset\\classification.py -> build\\lib.win-amd64-3.8\\causalml\\dataset\n",
      "    copying causalml\\dataset\\regression.py -> build\\lib.win-amd64-3.8\\causalml\\dataset\n",
      "    copying causalml\\dataset\\synthetic.py -> build\\lib.win-amd64-3.8\\causalml\\dataset\n",
      "    copying causalml\\dataset\\__init__.py -> build\\lib.win-amd64-3.8\\causalml\\dataset\n",
      "    creating build\\lib.win-amd64-3.8\\causalml\\feature_selection\n",
      "    copying causalml\\feature_selection\\filters.py -> build\\lib.win-amd64-3.8\\causalml\\feature_selection\n",
      "    copying causalml\\feature_selection\\__init__.py -> build\\lib.win-amd64-3.8\\causalml\\feature_selection\n",
      "    creating build\\lib.win-amd64-3.8\\causalml\\inference\n",
      "    copying causalml\\inference\\__init__.py -> build\\lib.win-amd64-3.8\\causalml\\inference\n",
      "    creating build\\lib.win-amd64-3.8\\causalml\\metrics\n",
      "    copying causalml\\metrics\\classification.py -> build\\lib.win-amd64-3.8\\causalml\\metrics\n",
      "    copying causalml\\metrics\\const.py -> build\\lib.win-amd64-3.8\\causalml\\metrics\n",
      "    copying causalml\\metrics\\regression.py -> build\\lib.win-amd64-3.8\\causalml\\metrics\n",
      "    copying causalml\\metrics\\sensitivity.py -> build\\lib.win-amd64-3.8\\causalml\\metrics\n",
      "    copying causalml\\metrics\\visualize.py -> build\\lib.win-amd64-3.8\\causalml\\metrics\n",
      "    copying causalml\\metrics\\__init__.py -> build\\lib.win-amd64-3.8\\causalml\\metrics\n",
      "    creating build\\lib.win-amd64-3.8\\causalml\\optimize\n",
      "    copying causalml\\optimize\\policylearner.py -> build\\lib.win-amd64-3.8\\causalml\\optimize\n",
      "    copying causalml\\optimize\\unit_selection.py -> build\\lib.win-amd64-3.8\\causalml\\optimize\n",
      "    copying causalml\\optimize\\utils.py -> build\\lib.win-amd64-3.8\\causalml\\optimize\n",
      "    copying causalml\\optimize\\value_optimization.py -> build\\lib.win-amd64-3.8\\causalml\\optimize\n",
      "    copying causalml\\optimize\\__init__.py -> build\\lib.win-amd64-3.8\\causalml\\optimize\n",
      "    creating build\\lib.win-amd64-3.8\\causalml\\inference\\iv\n",
      "    copying causalml\\inference\\iv\\drivlearner.py -> build\\lib.win-amd64-3.8\\causalml\\inference\\iv\n",
      "    copying causalml\\inference\\iv\\iv_regression.py -> build\\lib.win-amd64-3.8\\causalml\\inference\\iv\n",
      "    copying causalml\\inference\\iv\\__init__.py -> build\\lib.win-amd64-3.8\\causalml\\inference\\iv\n",
      "    creating build\\lib.win-amd64-3.8\\causalml\\inference\\meta\n",
      "    copying causalml\\inference\\meta\\base.py -> build\\lib.win-amd64-3.8\\causalml\\inference\\meta\n",
      "    copying causalml\\inference\\meta\\drlearner.py -> build\\lib.win-amd64-3.8\\causalml\\inference\\meta\n",
      "    copying causalml\\inference\\meta\\explainer.py -> build\\lib.win-amd64-3.8\\causalml\\inference\\meta\n",
      "    copying causalml\\inference\\meta\\rlearner.py -> build\\lib.win-amd64-3.8\\causalml\\inference\\meta\n",
      "    copying causalml\\inference\\meta\\slearner.py -> build\\lib.win-amd64-3.8\\causalml\\inference\\meta\n",
      "    copying causalml\\inference\\meta\\tlearner.py -> build\\lib.win-amd64-3.8\\causalml\\inference\\meta\n",
      "    copying causalml\\inference\\meta\\tmle.py -> build\\lib.win-amd64-3.8\\causalml\\inference\\meta\n",
      "    copying causalml\\inference\\meta\\utils.py -> build\\lib.win-amd64-3.8\\causalml\\inference\\meta\n",
      "    copying causalml\\inference\\meta\\xlearner.py -> build\\lib.win-amd64-3.8\\causalml\\inference\\meta\n",
      "    copying causalml\\inference\\meta\\__init__.py -> build\\lib.win-amd64-3.8\\causalml\\inference\\meta\n",
      "    creating build\\lib.win-amd64-3.8\\causalml\\inference\\nn\n",
      "    copying causalml\\inference\\nn\\cevae.py -> build\\lib.win-amd64-3.8\\causalml\\inference\\nn\n",
      "    copying causalml\\inference\\nn\\__init__.py -> build\\lib.win-amd64-3.8\\causalml\\inference\\nn\n",
      "    creating build\\lib.win-amd64-3.8\\causalml\\inference\\tf\n",
      "    copying causalml\\inference\\tf\\dragonnet.py -> build\\lib.win-amd64-3.8\\causalml\\inference\\tf\n",
      "    copying causalml\\inference\\tf\\utils.py -> build\\lib.win-amd64-3.8\\causalml\\inference\\tf\n",
      "    copying causalml\\inference\\tf\\__init__.py -> build\\lib.win-amd64-3.8\\causalml\\inference\\tf\n",
      "    creating build\\lib.win-amd64-3.8\\causalml\\inference\\tree\n",
      "    copying causalml\\inference\\tree\\plot.py -> build\\lib.win-amd64-3.8\\causalml\\inference\\tree\n",
      "    copying causalml\\inference\\tree\\utils.py -> build\\lib.win-amd64-3.8\\causalml\\inference\\tree\n",
      "    copying causalml\\inference\\tree\\__init__.py -> build\\lib.win-amd64-3.8\\causalml\\inference\\tree\n",
      "    running build_ext\n",
      "    building 'causalml.inference.tree.causaltree' extension\n",
      "    error: Microsoft Visual C++ 14.0 or greater is required. Get it with \"Microsoft C++ Build Tools\": https://visualstudio.microsoft.com/visual-cpp-build-tools/\n",
      "    ----------------------------------------\n",
      "ERROR: Command errored out with exit status 1: 'D:\\Anaconda\\python.exe' -u -c 'import sys, setuptools, tokenize; sys.argv[0] = '\"'\"'C:\\\\Users\\\\Home\\\\AppData\\\\Local\\\\Temp\\\\pip-install-1umw025s\\\\causalml_26df85067da9428e925cfd4da30f9c53\\\\setup.py'\"'\"'; __file__='\"'\"'C:\\\\Users\\\\Home\\\\AppData\\\\Local\\\\Temp\\\\pip-install-1umw025s\\\\causalml_26df85067da9428e925cfd4da30f9c53\\\\setup.py'\"'\"';f=getattr(tokenize, '\"'\"'open'\"'\"', open)(__file__);code=f.read().replace('\"'\"'\\r\\n'\"'\"', '\"'\"'\\n'\"'\"');f.close();exec(compile(code, __file__, '\"'\"'exec'\"'\"'))' install --record 'C:\\Users\\Home\\AppData\\Local\\Temp\\pip-record-ucdget60\\install-record.txt' --single-version-externally-managed --compile --install-headers 'D:\\Anaconda\\Include\\causalml' Check the logs for full command output.\n"
     ]
    }
   ],
   "source": [
    "!pip install causalml"
   ]
  },
  {
   "cell_type": "code",
   "execution_count": 3,
   "id": "5382e2d8",
   "metadata": {},
   "outputs": [],
   "source": [
    "import pandas as pd\n",
    "from sklearn.model_selection import train_test_split \n",
    "import matplotlib.pyplot as plt"
   ]
  },
  {
   "cell_type": "markdown",
   "id": "c2e8230f",
   "metadata": {},
   "source": [
    "скачать набор данных маркетинговых кампаний отсюда https://www.kaggle.com/davinwijaya/customer-retention"
   ]
  },
  {
   "cell_type": "code",
   "execution_count": 6,
   "id": "9e799ab0",
   "metadata": {},
   "outputs": [
    {
     "data": {
      "text/html": [
       "<div>\n",
       "<style scoped>\n",
       "    .dataframe tbody tr th:only-of-type {\n",
       "        vertical-align: middle;\n",
       "    }\n",
       "\n",
       "    .dataframe tbody tr th {\n",
       "        vertical-align: top;\n",
       "    }\n",
       "\n",
       "    .dataframe thead th {\n",
       "        text-align: right;\n",
       "    }\n",
       "</style>\n",
       "<table border=\"1\" class=\"dataframe\">\n",
       "  <thead>\n",
       "    <tr style=\"text-align: right;\">\n",
       "      <th></th>\n",
       "      <th>recency</th>\n",
       "      <th>history</th>\n",
       "      <th>used_discount</th>\n",
       "      <th>used_bogo</th>\n",
       "      <th>zip_code</th>\n",
       "      <th>is_referral</th>\n",
       "      <th>channel</th>\n",
       "      <th>offer</th>\n",
       "      <th>conversion</th>\n",
       "    </tr>\n",
       "  </thead>\n",
       "  <tbody>\n",
       "    <tr>\n",
       "      <th>0</th>\n",
       "      <td>10</td>\n",
       "      <td>142.44</td>\n",
       "      <td>1</td>\n",
       "      <td>0</td>\n",
       "      <td>Surburban</td>\n",
       "      <td>0</td>\n",
       "      <td>Phone</td>\n",
       "      <td>Buy One Get One</td>\n",
       "      <td>0</td>\n",
       "    </tr>\n",
       "    <tr>\n",
       "      <th>1</th>\n",
       "      <td>6</td>\n",
       "      <td>329.08</td>\n",
       "      <td>1</td>\n",
       "      <td>1</td>\n",
       "      <td>Rural</td>\n",
       "      <td>1</td>\n",
       "      <td>Web</td>\n",
       "      <td>No Offer</td>\n",
       "      <td>0</td>\n",
       "    </tr>\n",
       "    <tr>\n",
       "      <th>2</th>\n",
       "      <td>7</td>\n",
       "      <td>180.65</td>\n",
       "      <td>0</td>\n",
       "      <td>1</td>\n",
       "      <td>Surburban</td>\n",
       "      <td>1</td>\n",
       "      <td>Web</td>\n",
       "      <td>Buy One Get One</td>\n",
       "      <td>0</td>\n",
       "    </tr>\n",
       "  </tbody>\n",
       "</table>\n",
       "</div>"
      ],
      "text/plain": [
       "   recency  history  used_discount  used_bogo   zip_code  is_referral channel  \\\n",
       "0       10   142.44              1          0  Surburban            0   Phone   \n",
       "1        6   329.08              1          1      Rural            1     Web   \n",
       "2        7   180.65              0          1  Surburban            1     Web   \n",
       "\n",
       "             offer  conversion  \n",
       "0  Buy One Get One           0  \n",
       "1         No Offer           0  \n",
       "2  Buy One Get One           0  "
      ]
     },
     "execution_count": 6,
     "metadata": {},
     "output_type": "execute_result"
    }
   ],
   "source": [
    "df = pd.read_csv('C:/Users/Home/OneDrive/Рабочий стол/dataset_MO/data.csv', ',')\n",
    "df.head(3)"
   ]
  },
  {
   "cell_type": "code",
   "execution_count": 7,
   "id": "4830a013",
   "metadata": {},
   "outputs": [
    {
     "data": {
      "text/html": [
       "<div>\n",
       "<style scoped>\n",
       "    .dataframe tbody tr th:only-of-type {\n",
       "        vertical-align: middle;\n",
       "    }\n",
       "\n",
       "    .dataframe tbody tr th {\n",
       "        vertical-align: top;\n",
       "    }\n",
       "\n",
       "    .dataframe thead th {\n",
       "        text-align: right;\n",
       "    }\n",
       "</style>\n",
       "<table border=\"1\" class=\"dataframe\">\n",
       "  <thead>\n",
       "    <tr style=\"text-align: right;\">\n",
       "      <th></th>\n",
       "      <th>recency</th>\n",
       "      <th>history</th>\n",
       "      <th>used_discount</th>\n",
       "      <th>used_bogo</th>\n",
       "      <th>zip_code</th>\n",
       "      <th>is_referral</th>\n",
       "      <th>channel</th>\n",
       "      <th>treatment</th>\n",
       "      <th>target</th>\n",
       "    </tr>\n",
       "  </thead>\n",
       "  <tbody>\n",
       "    <tr>\n",
       "      <th>0</th>\n",
       "      <td>10</td>\n",
       "      <td>142.44</td>\n",
       "      <td>1</td>\n",
       "      <td>0</td>\n",
       "      <td>Surburban</td>\n",
       "      <td>0</td>\n",
       "      <td>Phone</td>\n",
       "      <td>Buy One Get One</td>\n",
       "      <td>0</td>\n",
       "    </tr>\n",
       "    <tr>\n",
       "      <th>1</th>\n",
       "      <td>6</td>\n",
       "      <td>329.08</td>\n",
       "      <td>1</td>\n",
       "      <td>1</td>\n",
       "      <td>Rural</td>\n",
       "      <td>1</td>\n",
       "      <td>Web</td>\n",
       "      <td>No Offer</td>\n",
       "      <td>0</td>\n",
       "    </tr>\n",
       "    <tr>\n",
       "      <th>2</th>\n",
       "      <td>7</td>\n",
       "      <td>180.65</td>\n",
       "      <td>0</td>\n",
       "      <td>1</td>\n",
       "      <td>Surburban</td>\n",
       "      <td>1</td>\n",
       "      <td>Web</td>\n",
       "      <td>Buy One Get One</td>\n",
       "      <td>0</td>\n",
       "    </tr>\n",
       "  </tbody>\n",
       "</table>\n",
       "</div>"
      ],
      "text/plain": [
       "   recency  history  used_discount  used_bogo   zip_code  is_referral channel  \\\n",
       "0       10   142.44              1          0  Surburban            0   Phone   \n",
       "1        6   329.08              1          1      Rural            1     Web   \n",
       "2        7   180.65              0          1  Surburban            1     Web   \n",
       "\n",
       "         treatment  target  \n",
       "0  Buy One Get One       0  \n",
       "1         No Offer       0  \n",
       "2  Buy One Get One       0  "
      ]
     },
     "execution_count": 7,
     "metadata": {},
     "output_type": "execute_result"
    }
   ],
   "source": [
    "df.rename(columns={'conversion': 'target', 'offer': 'treatment'}, inplace=True)\n",
    "df.head(3)"
   ]
  },
  {
   "cell_type": "code",
   "execution_count": 8,
   "id": "26a70013",
   "metadata": {},
   "outputs": [
    {
     "name": "stdout",
     "output_type": "stream",
     "text": [
      "<class 'pandas.core.frame.DataFrame'>\n",
      "RangeIndex: 64000 entries, 0 to 63999\n",
      "Data columns (total 9 columns):\n",
      " #   Column         Non-Null Count  Dtype  \n",
      "---  ------         --------------  -----  \n",
      " 0   recency        64000 non-null  int64  \n",
      " 1   history        64000 non-null  float64\n",
      " 2   used_discount  64000 non-null  int64  \n",
      " 3   used_bogo      64000 non-null  int64  \n",
      " 4   zip_code       64000 non-null  object \n",
      " 5   is_referral    64000 non-null  int64  \n",
      " 6   channel        64000 non-null  object \n",
      " 7   treatment      64000 non-null  object \n",
      " 8   target         64000 non-null  int64  \n",
      "dtypes: float64(1), int64(5), object(3)\n",
      "memory usage: 4.4+ MB\n"
     ]
    }
   ],
   "source": [
    "df.info()"
   ]
  },
  {
   "cell_type": "code",
   "execution_count": 9,
   "id": "3d5dcd94",
   "metadata": {},
   "outputs": [
    {
     "data": {
      "text/plain": [
       "0    54606\n",
       "1     9394\n",
       "Name: target, dtype: int64"
      ]
     },
     "execution_count": 9,
     "metadata": {},
     "output_type": "execute_result"
    }
   ],
   "source": [
    "df[\"target\"].value_counts()"
   ]
  },
  {
   "cell_type": "code",
   "execution_count": 10,
   "id": "677b789a",
   "metadata": {},
   "outputs": [
    {
     "data": {
      "text/plain": [
       "Buy One Get One    21387\n",
       "Discount           21307\n",
       "No Offer           21306\n",
       "Name: treatment, dtype: int64"
      ]
     },
     "execution_count": 10,
     "metadata": {},
     "output_type": "execute_result"
    }
   ],
   "source": [
    "df[\"treatment\"].value_counts()"
   ]
  },
  {
   "cell_type": "code",
   "execution_count": 11,
   "id": "6fe1c001",
   "metadata": {},
   "outputs": [
    {
     "data": {
      "text/plain": [
       "1    42694\n",
       "0    21306\n",
       "Name: treatment, dtype: int64"
      ]
     },
     "execution_count": 11,
     "metadata": {},
     "output_type": "execute_result"
    }
   ],
   "source": [
    "df.treatment = df.treatment.map({'No Offer': 0, 'Buy One Get One': 1, 'Discount': 1})\n",
    "df[\"treatment\"].value_counts()"
   ]
  },
  {
   "cell_type": "code",
   "execution_count": 12,
   "id": "d5b26e6d",
   "metadata": {},
   "outputs": [
    {
     "data": {
      "text/plain": [
       "count    64000.000000\n",
       "mean       242.085656\n",
       "std        256.158608\n",
       "min         29.990000\n",
       "25%         64.660000\n",
       "50%        158.110000\n",
       "75%        325.657500\n",
       "max       3345.930000\n",
       "Name: history, dtype: float64"
      ]
     },
     "execution_count": 12,
     "metadata": {},
     "output_type": "execute_result"
    }
   ],
   "source": [
    "df[\"history\"].describe()"
   ]
  },
  {
   "cell_type": "code",
   "execution_count": 13,
   "id": "455f5d54",
   "metadata": {},
   "outputs": [
    {
     "data": {
      "text/plain": [
       "<AxesSubplot:>"
      ]
     },
     "execution_count": 13,
     "metadata": {},
     "output_type": "execute_result"
    },
    {
     "data": {
      "image/png": "[encoded data removed]",
      "text/plain": [
       "<Figure size 432x288 with 1 Axes>"
      ]
     },
     "metadata": {
      "needs_background": "light"
     },
     "output_type": "display_data"
    }
   ],
   "source": [
    "df[\"history\"].hist()"
   ]
  },
  {
   "cell_type": "code",
   "execution_count": 14,
   "id": "874957ac",
   "metadata": {},
   "outputs": [],
   "source": [
    "df['history'] = (df['history'] - df['history'].min()) / (df['history'].max() - df['history'].min())"
   ]
  },
  {
   "cell_type": "code",
   "execution_count": 15,
   "id": "ae7436fe",
   "metadata": {},
   "outputs": [
    {
     "data": {
      "text/plain": [
       "<AxesSubplot:>"
      ]
     },
     "execution_count": 15,
     "metadata": {},
     "output_type": "execute_result"
    },
    {
     "data": {
      "image/png": "[encoded data removed]",
      "text/plain": [
       "<Figure size 432x288 with 1 Axes>"
      ]
     },
     "metadata": {
      "needs_background": "light"
     },
     "output_type": "display_data"
    }
   ],
   "source": [
    "df[\"history\"].hist()"
   ]
  },
  {
   "cell_type": "code",
   "execution_count": 16,
   "id": "bec661e7",
   "metadata": {},
   "outputs": [
    {
     "data": {
      "text/plain": [
       "<AxesSubplot:>"
      ]
     },
     "execution_count": 16,
     "metadata": {},
     "output_type": "execute_result"
    },
    {
     "data": {
      "image/png": "[encoded data removed]",
      "text/plain": [
       "<Figure size 432x288 with 1 Axes>"
      ]
     },
     "metadata": {
      "needs_background": "light"
     },
     "output_type": "display_data"
    }
   ],
   "source": [
    "df[\"recency\"].hist()"
   ]
  },
  {
   "cell_type": "code",
   "execution_count": 17,
   "id": "ce793704",
   "metadata": {},
   "outputs": [],
   "source": [
    "df.zip_code = df.zip_code.map({'Urban': 0, 'Surburban': 1, 'Rural': 2}) \n",
    "df.channel = df.channel.map({'Web': 0, 'Phone': 1, 'Multichannel': 2})"
   ]
  },
  {
   "cell_type": "code",
   "execution_count": 18,
   "id": "8d82879c",
   "metadata": {},
   "outputs": [
    {
     "data": {
      "text/html": [
       "<div>\n",
       "<style scoped>\n",
       "    .dataframe tbody tr th:only-of-type {\n",
       "        vertical-align: middle;\n",
       "    }\n",
       "\n",
       "    .dataframe tbody tr th {\n",
       "        vertical-align: top;\n",
       "    }\n",
       "\n",
       "    .dataframe thead th {\n",
       "        text-align: right;\n",
       "    }\n",
       "</style>\n",
       "<table border=\"1\" class=\"dataframe\">\n",
       "  <thead>\n",
       "    <tr style=\"text-align: right;\">\n",
       "      <th></th>\n",
       "      <th>recency</th>\n",
       "      <th>history</th>\n",
       "      <th>used_discount</th>\n",
       "      <th>used_bogo</th>\n",
       "      <th>zip_code</th>\n",
       "      <th>is_referral</th>\n",
       "      <th>channel</th>\n",
       "      <th>treatment</th>\n",
       "      <th>target</th>\n",
       "    </tr>\n",
       "  </thead>\n",
       "  <tbody>\n",
       "    <tr>\n",
       "      <th>0</th>\n",
       "      <td>10</td>\n",
       "      <td>0.033912</td>\n",
       "      <td>1</td>\n",
       "      <td>0</td>\n",
       "      <td>1</td>\n",
       "      <td>0</td>\n",
       "      <td>1</td>\n",
       "      <td>1</td>\n",
       "      <td>0</td>\n",
       "    </tr>\n",
       "    <tr>\n",
       "      <th>1</th>\n",
       "      <td>6</td>\n",
       "      <td>0.090198</td>\n",
       "      <td>1</td>\n",
       "      <td>1</td>\n",
       "      <td>2</td>\n",
       "      <td>1</td>\n",
       "      <td>0</td>\n",
       "      <td>0</td>\n",
       "      <td>0</td>\n",
       "    </tr>\n",
       "    <tr>\n",
       "      <th>2</th>\n",
       "      <td>7</td>\n",
       "      <td>0.045435</td>\n",
       "      <td>0</td>\n",
       "      <td>1</td>\n",
       "      <td>1</td>\n",
       "      <td>1</td>\n",
       "      <td>0</td>\n",
       "      <td>1</td>\n",
       "      <td>0</td>\n",
       "    </tr>\n",
       "    <tr>\n",
       "      <th>3</th>\n",
       "      <td>9</td>\n",
       "      <td>0.194768</td>\n",
       "      <td>1</td>\n",
       "      <td>0</td>\n",
       "      <td>2</td>\n",
       "      <td>1</td>\n",
       "      <td>0</td>\n",
       "      <td>1</td>\n",
       "      <td>0</td>\n",
       "    </tr>\n",
       "    <tr>\n",
       "      <th>4</th>\n",
       "      <td>2</td>\n",
       "      <td>0.004629</td>\n",
       "      <td>1</td>\n",
       "      <td>0</td>\n",
       "      <td>0</td>\n",
       "      <td>0</td>\n",
       "      <td>0</td>\n",
       "      <td>1</td>\n",
       "      <td>0</td>\n",
       "    </tr>\n",
       "  </tbody>\n",
       "</table>\n",
       "</div>"
      ],
      "text/plain": [
       "   recency   history  used_discount  used_bogo  zip_code  is_referral  \\\n",
       "0       10  0.033912              1          0         1            0   \n",
       "1        6  0.090198              1          1         2            1   \n",
       "2        7  0.045435              0          1         1            1   \n",
       "3        9  0.194768              1          0         2            1   \n",
       "4        2  0.004629              1          0         0            0   \n",
       "\n",
       "   channel  treatment  target  \n",
       "0        1          1       0  \n",
       "1        0          0       0  \n",
       "2        0          1       0  \n",
       "3        0          1       0  \n",
       "4        0          1       0  "
      ]
     },
     "execution_count": 18,
     "metadata": {},
     "output_type": "execute_result"
    }
   ],
   "source": [
    "df.head()"
   ]
  },
  {
   "cell_type": "code",
   "execution_count": 19,
   "id": "586302cf",
   "metadata": {},
   "outputs": [
    {
     "name": "stdout",
     "output_type": "stream",
     "text": [
      "<class 'pandas.core.frame.DataFrame'>\n",
      "RangeIndex: 64000 entries, 0 to 63999\n",
      "Data columns (total 9 columns):\n",
      " #   Column         Non-Null Count  Dtype  \n",
      "---  ------         --------------  -----  \n",
      " 0   recency        64000 non-null  int64  \n",
      " 1   history        64000 non-null  float64\n",
      " 2   used_discount  64000 non-null  int64  \n",
      " 3   used_bogo      64000 non-null  int64  \n",
      " 4   zip_code       64000 non-null  int64  \n",
      " 5   is_referral    64000 non-null  int64  \n",
      " 6   channel        64000 non-null  int64  \n",
      " 7   treatment      64000 non-null  int64  \n",
      " 8   target         64000 non-null  int64  \n",
      "dtypes: float64(1), int64(8)\n",
      "memory usage: 4.4 MB\n"
     ]
    }
   ],
   "source": [
    "df.info()"
   ]
  },
  {
   "cell_type": "markdown",
   "id": "d46a4db5",
   "metadata": {},
   "source": [
    "сделать разбиение набора данных не тренировочную и тестовую выборки"
   ]
  },
  {
   "cell_type": "code",
   "execution_count": 20,
   "id": "d3bd7055",
   "metadata": {},
   "outputs": [
    {
     "data": {
      "text/html": [
       "<div>\n",
       "<style scoped>\n",
       "    .dataframe tbody tr th:only-of-type {\n",
       "        vertical-align: middle;\n",
       "    }\n",
       "\n",
       "    .dataframe tbody tr th {\n",
       "        vertical-align: top;\n",
       "    }\n",
       "\n",
       "    .dataframe thead th {\n",
       "        text-align: right;\n",
       "    }\n",
       "</style>\n",
       "<table border=\"1\" class=\"dataframe\">\n",
       "  <thead>\n",
       "    <tr style=\"text-align: right;\">\n",
       "      <th></th>\n",
       "      <th>recency</th>\n",
       "      <th>history</th>\n",
       "      <th>used_discount</th>\n",
       "      <th>used_bogo</th>\n",
       "      <th>zip_code</th>\n",
       "      <th>is_referral</th>\n",
       "      <th>channel</th>\n",
       "    </tr>\n",
       "  </thead>\n",
       "  <tbody>\n",
       "    <tr>\n",
       "      <th>0</th>\n",
       "      <td>10</td>\n",
       "      <td>0.033912</td>\n",
       "      <td>1</td>\n",
       "      <td>0</td>\n",
       "      <td>1</td>\n",
       "      <td>0</td>\n",
       "      <td>1</td>\n",
       "    </tr>\n",
       "    <tr>\n",
       "      <th>1</th>\n",
       "      <td>6</td>\n",
       "      <td>0.090198</td>\n",
       "      <td>1</td>\n",
       "      <td>1</td>\n",
       "      <td>2</td>\n",
       "      <td>1</td>\n",
       "      <td>0</td>\n",
       "    </tr>\n",
       "    <tr>\n",
       "      <th>2</th>\n",
       "      <td>7</td>\n",
       "      <td>0.045435</td>\n",
       "      <td>0</td>\n",
       "      <td>1</td>\n",
       "      <td>1</td>\n",
       "      <td>1</td>\n",
       "      <td>0</td>\n",
       "    </tr>\n",
       "  </tbody>\n",
       "</table>\n",
       "</div>"
      ],
      "text/plain": [
       "   recency   history  used_discount  used_bogo  zip_code  is_referral  channel\n",
       "0       10  0.033912              1          0         1            0        1\n",
       "1        6  0.090198              1          1         2            1        0\n",
       "2        7  0.045435              0          1         1            1        0"
      ]
     },
     "execution_count": 20,
     "metadata": {},
     "output_type": "execute_result"
    }
   ],
   "source": [
    "df_features = df.drop(['treatment', 'target'], axis=1)\n",
    "df_features.head(3)"
   ]
  },
  {
   "cell_type": "code",
   "execution_count": 21,
   "id": "85a741db",
   "metadata": {},
   "outputs": [
    {
     "data": {
      "text/html": [
       "<div>\n",
       "<style scoped>\n",
       "    .dataframe tbody tr th:only-of-type {\n",
       "        vertical-align: middle;\n",
       "    }\n",
       "\n",
       "    .dataframe tbody tr th {\n",
       "        vertical-align: top;\n",
       "    }\n",
       "\n",
       "    .dataframe thead th {\n",
       "        text-align: right;\n",
       "    }\n",
       "</style>\n",
       "<table border=\"1\" class=\"dataframe\">\n",
       "  <thead>\n",
       "    <tr style=\"text-align: right;\">\n",
       "      <th></th>\n",
       "      <th>treatment</th>\n",
       "      <th>target</th>\n",
       "    </tr>\n",
       "  </thead>\n",
       "  <tbody>\n",
       "    <tr>\n",
       "      <th>0</th>\n",
       "      <td>1</td>\n",
       "      <td>0</td>\n",
       "    </tr>\n",
       "    <tr>\n",
       "      <th>1</th>\n",
       "      <td>0</td>\n",
       "      <td>0</td>\n",
       "    </tr>\n",
       "    <tr>\n",
       "      <th>2</th>\n",
       "      <td>1</td>\n",
       "      <td>0</td>\n",
       "    </tr>\n",
       "  </tbody>\n",
       "</table>\n",
       "</div>"
      ],
      "text/plain": [
       "   treatment  target\n",
       "0          1       0\n",
       "1          0       0\n",
       "2          1       0"
      ]
     },
     "execution_count": 21,
     "metadata": {},
     "output_type": "execute_result"
    }
   ],
   "source": [
    "df_flag = df[['treatment', 'target']]\n",
    "df_flag.head(3)"
   ]
  },
  {
   "cell_type": "code",
   "execution_count": 22,
   "id": "e3172bb3",
   "metadata": {},
   "outputs": [],
   "source": [
    "indices_train, indices_valid = train_test_split(df_flag.index, test_size=0.3, random_state=123)"
   ]
  },
  {
   "cell_type": "code",
   "execution_count": 23,
   "id": "8f7cd127",
   "metadata": {},
   "outputs": [],
   "source": [
    "# данные для обучения\n",
    "X_train = df_features.loc[indices_train, :] # признаки о клиенте (в них остались только описания клиентов )\n",
    "y_train = df_flag.loc[indices_train, 'target'] #целевой признак (те кто сделал правильное действие)\n",
    "treat_train = df_flag.loc[indices_train, 'treatment']  #те кому написали смс с предложением\n",
    "\n",
    "#данные для валидации\n",
    "X_val = df_features.loc[indices_valid, :]\n",
    "y_val = df_flag.loc[indices_valid, 'target']\n",
    "treat_val =  df_flag.loc[indices_valid, 'treatment']\n",
    "\n",
    "#весь набор целиком\n",
    "X_train_full = df_features\n",
    "y_train_full = df_flag.loc[:, 'target']\n",
    "treat_train_full = df_flag.loc[:, 'treatment']\n",
    "\n",
    "# наш категорийный признак\n",
    "#cat_features = ['recency']\n",
    "\n",
    "# словарь для записывания результатов\n",
    "models_results = {\n",
    "    'models': [],\n",
    "    'uplift@10%': [],\n",
    "    'uplift@20%': [],\n",
    "    'uplift@30%': []\n",
    "}"
   ]
  },
  {
   "cell_type": "code",
   "execution_count": 24,
   "id": "b0891ea5",
   "metadata": {},
   "outputs": [],
   "source": [
    "from sklearn.utils.validation import check_consistent_length\n",
    "from sklift.metrics import uplift_at_k\n",
    "from sklift.viz import plot_uplift_preds\n",
    "from sklift.models import SoloModel\n",
    "from catboost import CatBoostClassifier\n",
    "from sklearn.ensemble import GradientBoostingClassifier"
   ]
  },
  {
   "cell_type": "code",
   "execution_count": 25,
   "id": "025edf8f",
   "metadata": {},
   "outputs": [
    {
     "name": "stdout",
     "output_type": "stream",
     "text": [
      "uplift@10%: 0.1221, uplift@20%: 0.1013, uplift@30%: 0.08689197778102695\n"
     ]
    },
    {
     "data": {
      "image/png": "[encoded data removed]",
      "text/plain": [
       "<Figure size 1440x504 with 3 Axes>"
      ]
     },
     "metadata": {
      "needs_background": "light"
     },
     "output_type": "display_data"
    }
   ],
   "source": [
    "#N = 20000\n",
    "sm = SoloModel(GradientBoostingClassifier(n_estimators=40, max_depth = 3, random_state = 1)) \n",
    "#GradientBoostingClassifier показала результат лучше, чем CatBoostClassifier\n",
    "\n",
    "sm = sm.fit(X_train, y_train, treat_train)  \n",
    "\n",
    "uplift_sm = sm.predict(X_val) \n",
    "\n",
    "# размер uplift на топ k процентах выборки\n",
    "sm_score_10 = uplift_at_k(y_true=y_val, uplift=uplift_sm, treatment=treat_val, strategy='by_group', k=0.1)\n",
    "sm_score_20 = uplift_at_k(y_true=y_val, uplift=uplift_sm, treatment=treat_val, strategy='by_group', k=0.2)\n",
    "sm_score_30 = uplift_at_k(y_true=y_val, uplift=uplift_sm, treatment=treat_val, strategy='by_group', k=0.3)\n",
    "print(f'uplift@10%: {sm_score_10:.4f}, uplift@20%: {sm_score_20:.4f}, uplift@30%: {sm_score_30}')\n",
    "\n",
    "\n",
    "models_results['models'].append('SoloModel')\n",
    "models_results['uplift@10%'].append(sm_score_10)\n",
    "models_results['uplift@20%'].append(sm_score_20)\n",
    "models_results['uplift@30%'].append(sm_score_20)\n",
    "\n",
    "# Получим условные вероятности выполнения целевого действия при взаимодействии для каждого объекта\n",
    "sm_trmnt_preds = sm.trmnt_preds_\n",
    "# И условные вероятности выполнения целевого действия без взаимодействия для каждого объекта\n",
    "sm_ctrl_preds = sm.ctrl_preds_\n",
    "\n",
    "# Отрисуем распределения вероятностей и их разность (uplift)\n",
    "plot_uplift_preds(sm_trmnt_preds , sm_ctrl_preds, bins=100);#ctrl_preds="
   ]
  },
  {
   "cell_type": "code",
   "execution_count": 26,
   "id": "e129d744",
   "metadata": {},
   "outputs": [
    {
     "data": {
      "image/png": "[encoded data removed]",
      "text/plain": [
       "<Figure size 432x288 with 1 Axes>"
      ]
     },
     "metadata": {
      "needs_background": "light"
     },
     "output_type": "display_data"
    }
   ],
   "source": [
    "from sklift.viz import plot_uplift_curve\n",
    "\n",
    "\n",
    "# with ideal curve\n",
    "# perfect=True\n",
    "plot_uplift_curve(y_val, uplift_sm, treat_val, perfect=False); # perfect=True"
   ]
  },
  {
   "cell_type": "code",
   "execution_count": 27,
   "id": "9d89d166",
   "metadata": {},
   "outputs": [
    {
     "data": {
      "image/png": "[encoded data removed]",
      "text/plain": [
       "<Figure size 432x288 with 1 Axes>"
      ]
     },
     "metadata": {
      "needs_background": "light"
     },
     "output_type": "display_data"
    }
   ],
   "source": [
    "from sklift.viz import plot_qini_curve\n",
    "\n",
    "\n",
    "# with ideal Qini curve (red line)\n",
    "# perfect=True\n",
    "plot_qini_curve(y_val, uplift_sm, treat_val, perfect=False);"
   ]
  },
  {
   "cell_type": "code",
   "execution_count": 28,
   "id": "d3c0dac6",
   "metadata": {},
   "outputs": [
    {
     "name": "stdout",
     "output_type": "stream",
     "text": [
      "Qini coefficient on full data: 0.0371\n"
     ]
    }
   ],
   "source": [
    "from sklift.metrics import qini_auc_score\n",
    "\n",
    "\n",
    "# коэффициент qini, или area under qini curve (AUQC)\n",
    "auqc = qini_auc_score(y_val, uplift_sm, treat_val) \n",
    "print(f\"Qini coefficient on full data: {auqc:.4f}\")"
   ]
  },
  {
   "cell_type": "code",
   "execution_count": 29,
   "id": "0f962d43",
   "metadata": {},
   "outputs": [
    {
     "name": "stderr",
     "output_type": "stream",
     "text": [
      "D:\\Anaconda\\lib\\site-packages\\numpy\\core\\_asarray.py:102: VisibleDeprecationWarning: Creating an ndarray from ragged nested sequences (which is a list-or-tuple of lists-or-tuples-or ndarrays with different lengths or shapes) is deprecated. If you meant to do this, you must specify 'dtype=object' when creating the ndarray.\n",
      "  return array(a, dtype, copy=False, order=order)\n"
     ]
    },
    {
     "data": {
      "image/png": "[encoded data removed]",
      "text/plain": [
       "<Figure size 576x432 with 2 Axes>"
      ]
     },
     "metadata": {
      "needs_background": "light"
     },
     "output_type": "display_data"
    }
   ],
   "source": [
    "from sklift.viz import plot_uplift_by_percentile\n",
    "\n",
    "# график uplift by percentile\n",
    "plot_uplift_by_percentile(y_val, uplift_sm, treat_val, \n",
    "                          strategy='overall', kind='bar');"
   ]
  },
  {
   "cell_type": "code",
   "execution_count": 30,
   "id": "83f9a6a9",
   "metadata": {},
   "outputs": [
    {
     "name": "stdout",
     "output_type": "stream",
     "text": [
      "weighted average uplift on full data: 0.0622\n"
     ]
    }
   ],
   "source": [
    "from sklift.metrics import weighted_average_uplift\n",
    "\n",
    "# с помощью значений в столбцах uplift и n_treatment рассчитаем усредненный uplift на всей выборке, \n",
    "# взвешенный на размер целевой группы — weighted average uplift\n",
    "uplift_full_data = weighted_average_uplift(y_val, uplift_sm, \n",
    "                                            treat_val, bins=10) \n",
    "print(f\"weighted average uplift on full data: {uplift_full_data:.4f}\")"
   ]
  },
  {
   "cell_type": "markdown",
   "id": "37b8a676",
   "metadata": {},
   "source": [
    "модель с трансформацией таргета (трансформация классов п. 1.2)"
   ]
  },
  {
   "cell_type": "code",
   "execution_count": 31,
   "id": "6ac8288e",
   "metadata": {},
   "outputs": [],
   "source": [
    "from sklift.models import ClassTransformation"
   ]
  },
  {
   "cell_type": "code",
   "execution_count": 32,
   "id": "f5497c2a",
   "metadata": {},
   "outputs": [
    {
     "name": "stdout",
     "output_type": "stream",
     "text": [
      "uplift@10%: 0.1143, uplift@20%: 0.1028, uplift@30%: 0.09263932091995467\n"
     ]
    }
   ],
   "source": [
    "ct = ClassTransformation(GradientBoostingClassifier(n_estimators=40, max_depth = 3, random_state = 1))\n",
    "\n",
    "ct.fit(X_train, y_train, treatment=treat_train)\n",
    "\n",
    "uplift_ct = ct.predict(X_val) \n",
    "\n",
    "ct_score_10 = uplift_at_k(y_true=y_val, uplift=uplift_ct, treatment = treat_val, strategy='by_group', k=0.1)\n",
    "ct_score_20 = uplift_at_k(y_true=y_val, uplift=uplift_ct, treatment = treat_val, strategy='by_group', k=0.2)\n",
    "ct_score_30 = uplift_at_k(y_true=y_val, uplift=uplift_ct, treatment = treat_val, strategy='by_group', k=0.3)\n",
    "print(f'uplift@10%: {ct_score_10:.4f}, uplift@20%: {ct_score_20:.4f}, uplift@30%: {ct_score_30}')\n",
    "\n",
    "models_results['models'].append('ClassTransformation')\n",
    "models_results['uplift@10%'].append(ct_score_10)\n",
    "models_results['uplift@20%'].append(ct_score_20)\n",
    "models_results['uplift@30%'].append(ct_score_20)"
   ]
  },
  {
   "cell_type": "markdown",
   "id": "932baea5",
   "metadata": {},
   "source": [
    "вариант с двумя независимыми моделями\n"
   ]
  },
  {
   "cell_type": "code",
   "execution_count": 33,
   "id": "a9ba943b",
   "metadata": {},
   "outputs": [],
   "source": [
    "from sklift.models import TwoModels"
   ]
  },
  {
   "cell_type": "code",
   "execution_count": 34,
   "id": "51ee77ec",
   "metadata": {},
   "outputs": [
    {
     "name": "stdout",
     "output_type": "stream",
     "text": [
      "uplift@10%: 0.1033, uplift@20%: 0.0790, uplift@30%: 0.0712577504496936\n"
     ]
    },
    {
     "data": {
      "image/png": "[encoded data removed]",
      "text/plain": [
       "<Figure size 1440x504 with 3 Axes>"
      ]
     },
     "metadata": {
      "needs_background": "light"
     },
     "output_type": "display_data"
    }
   ],
   "source": [
    "tm = TwoModels(estimator_trmnt = GradientBoostingClassifier(n_estimators=40, max_depth = 3, random_state = 1),\n",
    "               estimator_ctrl =  GradientBoostingClassifier(n_estimators=40, max_depth = 3, random_state = 1),\n",
    "               method='vanilla') \n",
    "#vanilla - независимые модели\n",
    "#ddr_control или ddr_treatment - зависимые модели\n",
    "\n",
    "tm.fit(X_train, y_train, treatment=treat_train)\n",
    "\n",
    "uplift_tm = tm.predict(X_val)\n",
    "\n",
    "tm_score_10 = uplift_at_k(y_true=y_val, uplift=uplift_tm, treatment = treat_val, strategy='by_group', k=0.1)\n",
    "tm_score_20 = uplift_at_k(y_true=y_val, uplift=uplift_tm, treatment = treat_val, strategy='by_group', k=0.2)\n",
    "tm_score_30 = uplift_at_k(y_true=y_val, uplift=uplift_tm, treatment = treat_val, strategy='by_group', k=0.3)\n",
    "print(f'uplift@10%: {tm_score_10:.4f}, uplift@20%: {tm_score_20:.4f}, uplift@30%: {tm_score_30}')\n",
    "\n",
    "models_results['models'].append('TwoModels')\n",
    "models_results['uplift@10%'].append(tm_score_10)\n",
    "models_results['uplift@20%'].append(tm_score_20)\n",
    "models_results['uplift@30%'].append(tm_score_20)\n",
    "\n",
    "plot_uplift_preds(trmnt_preds=tm.trmnt_preds_, ctrl_preds=tm.ctrl_preds_);"
   ]
  },
  {
   "cell_type": "markdown",
   "id": "94727f57",
   "metadata": {},
   "source": [
    "в конце вывести единую таблицу сравнения метрик uplift@10%, uplift@20% этих 3 моделей"
   ]
  },
  {
   "cell_type": "code",
   "execution_count": 35,
   "id": "6b428db6",
   "metadata": {},
   "outputs": [
    {
     "data": {
      "text/html": [
       "<div>\n",
       "<style scoped>\n",
       "    .dataframe tbody tr th:only-of-type {\n",
       "        vertical-align: middle;\n",
       "    }\n",
       "\n",
       "    .dataframe tbody tr th {\n",
       "        vertical-align: top;\n",
       "    }\n",
       "\n",
       "    .dataframe thead th {\n",
       "        text-align: right;\n",
       "    }\n",
       "</style>\n",
       "<table border=\"1\" class=\"dataframe\">\n",
       "  <thead>\n",
       "    <tr style=\"text-align: right;\">\n",
       "      <th></th>\n",
       "      <th>models</th>\n",
       "      <th>uplift@10%</th>\n",
       "      <th>uplift@20%</th>\n",
       "      <th>uplift@30%</th>\n",
       "    </tr>\n",
       "  </thead>\n",
       "  <tbody>\n",
       "    <tr>\n",
       "      <th>0</th>\n",
       "      <td>SoloModel</td>\n",
       "      <td>0.122096</td>\n",
       "      <td>0.101264</td>\n",
       "      <td>0.101264</td>\n",
       "    </tr>\n",
       "    <tr>\n",
       "      <th>1</th>\n",
       "      <td>ClassTransformation</td>\n",
       "      <td>0.114282</td>\n",
       "      <td>0.102830</td>\n",
       "      <td>0.102830</td>\n",
       "    </tr>\n",
       "    <tr>\n",
       "      <th>2</th>\n",
       "      <td>TwoModels</td>\n",
       "      <td>0.103316</td>\n",
       "      <td>0.078987</td>\n",
       "      <td>0.078987</td>\n",
       "    </tr>\n",
       "  </tbody>\n",
       "</table>\n",
       "</div>"
      ],
      "text/plain": [
       "                models  uplift@10%  uplift@20%  uplift@30%\n",
       "0            SoloModel    0.122096    0.101264    0.101264\n",
       "1  ClassTransformation    0.114282    0.102830    0.102830\n",
       "2            TwoModels    0.103316    0.078987    0.078987"
      ]
     },
     "execution_count": 35,
     "metadata": {},
     "output_type": "execute_result"
    }
   ],
   "source": [
    "evaluate_models = pd.DataFrame(models_results)\n",
    "evaluate_models"
   ]
  },
  {
   "cell_type": "code",
   "execution_count": null,
   "id": "44c160cf",
   "metadata": {},
   "outputs": [],
   "source": []
  }
 ],
 "metadata": {
  "kernelspec": {
   "display_name": "Python 3",
   "language": "python",
   "name": "python3"
  },
  "language_info": {
   "codemirror_mode": {
    "name": "ipython",
    "version": 3
   },
   "file_extension": ".py",
   "mimetype": "text/x-python",
   "name": "python",
   "nbconvert_exporter": "python",
   "pygments_lexer": "ipython3",
   "version": "3.8.8"
  }
 },
 "nbformat": 4,
 "nbformat_minor": 5
}
