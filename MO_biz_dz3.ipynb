{
 "cells": [
  {
   "cell_type": "code",
   "execution_count": 1,
   "id": "0536d384",
   "metadata": {},
   "outputs": [],
   "source": [
    "import numpy as np\n",
    "import pandas as pd\n",
    "\n",
    "from sklearn.feature_extraction.text import TfidfVectorizer\n",
    "from sklearn.linear_model import LogisticRegression\n",
    "from sklearn.model_selection import cross_val_score, train_test_split\n",
    "from sklearn.metrics import precision_recall_curve, roc_auc_score\n",
    "from scipy.sparse import hstack\n",
    "from sklearn.pipeline import Pipeline, make_pipeline\n",
    "from sklearn.base import BaseEstimator, TransformerMixin"
   ]
  },
  {
   "cell_type": "code",
   "execution_count": 2,
   "id": "73c8dd0d",
   "metadata": {},
   "outputs": [
    {
     "data": {
      "text/html": [
       "<div>\n",
       "<style scoped>\n",
       "    .dataframe tbody tr th:only-of-type {\n",
       "        vertical-align: middle;\n",
       "    }\n",
       "\n",
       "    .dataframe tbody tr th {\n",
       "        vertical-align: top;\n",
       "    }\n",
       "\n",
       "    .dataframe thead th {\n",
       "        text-align: right;\n",
       "    }\n",
       "</style>\n",
       "<table border=\"1\" class=\"dataframe\">\n",
       "  <thead>\n",
       "    <tr style=\"text-align: right;\">\n",
       "      <th></th>\n",
       "      <th>id</th>\n",
       "      <th>age</th>\n",
       "      <th>gender</th>\n",
       "      <th>height</th>\n",
       "      <th>weight</th>\n",
       "      <th>ap_hi</th>\n",
       "      <th>ap_lo</th>\n",
       "      <th>cholesterol</th>\n",
       "      <th>gluc</th>\n",
       "      <th>smoke</th>\n",
       "      <th>alco</th>\n",
       "      <th>active</th>\n",
       "      <th>cardio</th>\n",
       "    </tr>\n",
       "  </thead>\n",
       "  <tbody>\n",
       "    <tr>\n",
       "      <th>0</th>\n",
       "      <td>0</td>\n",
       "      <td>18393</td>\n",
       "      <td>2</td>\n",
       "      <td>168</td>\n",
       "      <td>62.0</td>\n",
       "      <td>110</td>\n",
       "      <td>80</td>\n",
       "      <td>1</td>\n",
       "      <td>1</td>\n",
       "      <td>0</td>\n",
       "      <td>0</td>\n",
       "      <td>1</td>\n",
       "      <td>0</td>\n",
       "    </tr>\n",
       "    <tr>\n",
       "      <th>1</th>\n",
       "      <td>1</td>\n",
       "      <td>20228</td>\n",
       "      <td>1</td>\n",
       "      <td>156</td>\n",
       "      <td>85.0</td>\n",
       "      <td>140</td>\n",
       "      <td>90</td>\n",
       "      <td>3</td>\n",
       "      <td>1</td>\n",
       "      <td>0</td>\n",
       "      <td>0</td>\n",
       "      <td>1</td>\n",
       "      <td>1</td>\n",
       "    </tr>\n",
       "    <tr>\n",
       "      <th>2</th>\n",
       "      <td>2</td>\n",
       "      <td>18857</td>\n",
       "      <td>1</td>\n",
       "      <td>165</td>\n",
       "      <td>64.0</td>\n",
       "      <td>130</td>\n",
       "      <td>70</td>\n",
       "      <td>3</td>\n",
       "      <td>1</td>\n",
       "      <td>0</td>\n",
       "      <td>0</td>\n",
       "      <td>0</td>\n",
       "      <td>1</td>\n",
       "    </tr>\n",
       "  </tbody>\n",
       "</table>\n",
       "</div>"
      ],
      "text/plain": [
       "   id    age  gender  height  weight  ap_hi  ap_lo  cholesterol  gluc  smoke  \\\n",
       "0   0  18393       2     168    62.0    110     80            1     1      0   \n",
       "1   1  20228       1     156    85.0    140     90            3     1      0   \n",
       "2   2  18857       1     165    64.0    130     70            3     1      0   \n",
       "\n",
       "   alco  active  cardio  \n",
       "0     0       1       0  \n",
       "1     0       1       1  \n",
       "2     0       0       1  "
      ]
     },
     "execution_count": 2,
     "metadata": {},
     "output_type": "execute_result"
    }
   ],
   "source": [
    "df = pd.read_csv('C:/Users/Home/OneDrive/Рабочий стол/dataset_MO/train_case2.csv', ';')\n",
    "df.head(3)"
   ]
  },
  {
   "cell_type": "code",
   "execution_count": 3,
   "id": "c4fa4f3c",
   "metadata": {},
   "outputs": [],
   "source": [
    "X_train, X_test, y_train, y_test = train_test_split(df.drop('cardio', 1), \n",
    "                                                    df['cardio'], random_state=0)"
   ]
  },
  {
   "cell_type": "code",
   "execution_count": 5,
   "id": "765f0163",
   "metadata": {},
   "outputs": [],
   "source": [
    "class ColumnSelector(BaseEstimator, TransformerMixin):\n",
    "    \"\"\"\n",
    "    Transformer to select a single column from the data frame to perform additional transformations on\n",
    "    \"\"\"\n",
    "    def __init__(self, key):\n",
    "        self.key = key\n",
    "\n",
    "    def fit(self, X, y=None):\n",
    "        return self\n",
    "\n",
    "    def transform(self, X):\n",
    "        return X[self.key]\n",
    "    \n",
    "class NumberSelector(BaseEstimator, TransformerMixin):\n",
    "    \"\"\"\n",
    "    Transformer to select a single column from the data frame to perform additional transformations on\n",
    "    Use on numeric columns in the data\n",
    "    \"\"\"\n",
    "    def __init__(self, key):\n",
    "        self.key = key\n",
    "\n",
    "    def fit(self, X, y=None):\n",
    "        return self\n",
    "\n",
    "    def transform(self, X):\n",
    "        return X[[self.key]]\n",
    "    \n",
    "class OHEEncoder(BaseEstimator, TransformerMixin):\n",
    "    def __init__(self, key):\n",
    "        self.key = key\n",
    "        self.columns = []\n",
    "\n",
    "    def fit(self, X, y=None):\n",
    "        self.columns = [col for col in pd.get_dummies(X, prefix=self.key).columns]\n",
    "        return self\n",
    "\n",
    "    def transform(self, X):\n",
    "        X = pd.get_dummies(X, prefix=self.key)\n",
    "        test_columns = [col for col in X.columns]\n",
    "        for col_ in test_columns:\n",
    "            if col_ not in self.columns:\n",
    "                X[col_] = 0\n",
    "        return X[self.columns]\n",
    "\n",
    "\n",
    "from sklearn.preprocessing import StandardScaler\n",
    "\n",
    "\n",
    "continuos_cols = ['age', 'height', 'weight', 'ap_hi', 'ap_lo']\n",
    "cat_cols = ['gender', 'cholesterol']\n",
    "base_cols = ['gluc', 'smoke', 'alco', 'active']\n",
    "\n",
    "continuos_transformers = []\n",
    "cat_transformers = []\n",
    "base_transformers = []\n",
    "\n",
    "for cont_col in continuos_cols:\n",
    "    transfomer =  Pipeline([\n",
    "                ('selector', NumberSelector(key=cont_col)),\n",
    "                ('standard', StandardScaler())\n",
    "            ])\n",
    "    continuos_transformers.append((cont_col, transfomer))\n",
    "    \n",
    "for cat_col in cat_cols:\n",
    "    cat_transformer = Pipeline([\n",
    "                ('selector', ColumnSelector(key=cat_col)),\n",
    "                ('ohe', OHEEncoder(key=cat_col))\n",
    "            ])\n",
    "    cat_transformers.append((cat_col, cat_transformer))\n",
    "    \n",
    "for base_col in base_cols:\n",
    "    base_transformer = Pipeline([\n",
    "                ('selector', NumberSelector(key=base_col))\n",
    "            ])\n",
    "    base_transformers.append((base_col, base_transformer))"
   ]
  },
  {
   "cell_type": "code",
   "execution_count": 6,
   "id": "42838add",
   "metadata": {},
   "outputs": [
    {
     "data": {
      "text/plain": [
       "array([[-1.73391771,  0.6873301 ,  0.74843904, ...,  1.        ,\n",
       "         0.        ,  1.        ],\n",
       "       [-1.67343538,  0.07758923, -0.29640123, ...,  0.        ,\n",
       "         0.        ,  1.        ],\n",
       "       [ 0.13738132,  1.17512278, -0.15708919, ...,  0.        ,\n",
       "         0.        ,  0.        ],\n",
       "       ...,\n",
       "       [ 1.17775864,  1.17512278, -0.15708919, ...,  0.        ,\n",
       "         0.        ,  1.        ],\n",
       "       [-0.47190715, -1.38578883,  0.74843904, ...,  0.        ,\n",
       "         0.        ,  1.        ],\n",
       "       [ 0.38174619,  0.56538192, -0.08743318, ...,  0.        ,\n",
       "         0.        ,  1.        ]])"
      ]
     },
     "execution_count": 6,
     "metadata": {},
     "output_type": "execute_result"
    }
   ],
   "source": [
    "from sklearn.pipeline import FeatureUnion\n",
    "\n",
    "feats = FeatureUnion(continuos_transformers+cat_transformers+base_transformers)\n",
    "feature_processing = Pipeline([('feats', feats)])\n",
    "\n",
    "feature_processing.fit_transform(X_train)"
   ]
  },
  {
   "cell_type": "code",
   "execution_count": 7,
   "id": "7a8993b8",
   "metadata": {},
   "outputs": [
    {
     "name": "stdout",
     "output_type": "stream",
     "text": [
      "CV score is 0.7867401104915408+-0.00852135511666111\n"
     ]
    }
   ],
   "source": [
    "classifier = Pipeline([\n",
    "    ('features',feats),\n",
    "    ('classifier', LogisticRegression(random_state = 42)),\n",
    "])\n",
    "\n",
    "\n",
    "#запустим кросс-валидацию\n",
    "cv_scores = cross_val_score(classifier, X_train, y_train, cv=16, scoring='roc_auc')\n",
    "cv_score = np.mean(cv_scores)\n",
    "cv_score_std = np.std(cv_scores)\n",
    "print('CV score is {}+-{}'.format(cv_score, cv_score_std))\n",
    "\n",
    "#обучим пайплайн на всем тренировочном датасете\n",
    "classifier.fit(X_train, y_train)\n",
    "y_score = classifier.predict_proba(X_test)[:, 1]"
   ]
  },
  {
   "cell_type": "markdown",
   "id": "01cf1c0e",
   "metadata": {},
   "source": [
    "1. Обучить несколько разных моделей на наборе данных ССЗ (train_case2.csv): логрег, бустинг, лес и т.д - на ваш выбор 2-3 варианта\n",
    "2. Вывести сравнение полученных моделей по основным метрикам классификации: pr/rec/auc/f_score (можно в виде таблицы, где строки - модели, а столбцы - метрики)"
   ]
  },
  {
   "cell_type": "code",
   "execution_count": 9,
   "id": "32d9874b",
   "metadata": {},
   "outputs": [],
   "source": [
    "from sklearn.ensemble import RandomForestClassifier, GradientBoostingClassifier"
   ]
  },
  {
   "cell_type": "code",
   "execution_count": 10,
   "id": "1f029e36",
   "metadata": {},
   "outputs": [
    {
     "name": "stdout",
     "output_type": "stream",
     "text": [
      "CV score is 0.7734501681056019+-0.007171140345435727\n"
     ]
    }
   ],
   "source": [
    "rf_classifier = Pipeline([\n",
    "    ('features',feats),\n",
    "    ('rf_classifier', RandomForestClassifier(random_state = 42)),\n",
    "])\n",
    "\n",
    "#запустим кросс-валидацию\n",
    "rf_cv_scores = cross_val_score(rf_classifier, X_train, y_train, cv=16, scoring='roc_auc')\n",
    "rf_cv_score = np.mean(rf_cv_scores)\n",
    "rf_cv_score_std = np.std(rf_cv_scores)\n",
    "print('CV score is {}+-{}'.format(rf_cv_score, rf_cv_score_std))"
   ]
  },
  {
   "cell_type": "code",
   "execution_count": 12,
   "id": "c3a9667a",
   "metadata": {},
   "outputs": [
    {
     "name": "stdout",
     "output_type": "stream",
     "text": [
      "CV score is 0.8025124517417064+-0.007075372179995901\n"
     ]
    }
   ],
   "source": [
    "gb_classifier = Pipeline([\n",
    "    ('features',feats),\n",
    "    ('gb_classifier', GradientBoostingClassifier(random_state = 42)),\n",
    "])\n",
    "\n",
    "#запустим кросс-валидацию\n",
    "gb_cv_scores = cross_val_score(gb_classifier, X_train, y_train, cv=16, scoring='roc_auc')\n",
    "gb_cv_score = np.mean(gb_cv_scores)\n",
    "gb_cv_score_std = np.std(gb_cv_scores)\n",
    "print('CV score is {}+-{}'.format(gb_cv_score, gb_cv_score_std))"
   ]
  },
  {
   "cell_type": "code",
   "execution_count": 13,
   "id": "823c8788",
   "metadata": {},
   "outputs": [
    {
     "name": "stdout",
     "output_type": "stream",
     "text": [
      "n_estimators: 50, max_depth = 3, CV score is 0.8011686489539476+-0.006773234653669673\n",
      "n_estimators: 50, max_depth = 5, CV score is 0.8026120551097841+-0.006754809478215111\n",
      "n_estimators: 50, max_depth = 7, CV score is 0.8009839735576266+-0.0064752474409542765\n",
      "n_estimators: 70, max_depth = 3, CV score is 0.8021323612985394+-0.006954429860504813\n",
      "n_estimators: 70, max_depth = 5, CV score is 0.8026084503778794+-0.006877624100453979\n",
      "n_estimators: 70, max_depth = 7, CV score is 0.8005797675929417+-0.0065032991706983345\n"
     ]
    }
   ],
   "source": [
    "n_estimators = [50, 70]\n",
    "max_depth = [3, 5, 7]\n",
    "\n",
    "for n in n_estimators:\n",
    "    for depth in max_depth:\n",
    "        gb_classifier = Pipeline([\n",
    "            ('features',feats),\n",
    "            ('gb_classifier', GradientBoostingClassifier(n_estimators = n, max_depth = depth, random_state = 42)),\n",
    "        ])\n",
    "\n",
    "        #запустим кросс-валидацию\n",
    "        gb_cv_scores = cross_val_score(gb_classifier, X_train, y_train, cv=16, scoring='roc_auc')\n",
    "        gb_cv_score = np.mean(gb_cv_scores)\n",
    "        gb_cv_score_std = np.std(gb_cv_scores)\n",
    "        print('n_estimators: {}, max_depth = {}, CV score is {}+-{}'.format(n, depth, gb_cv_score, gb_cv_score_std))"
   ]
  },
  {
   "cell_type": "code",
   "execution_count": 14,
   "id": "41741f72",
   "metadata": {},
   "outputs": [
    {
     "name": "stdout",
     "output_type": "stream",
     "text": [
      "CV score is 0.8029129182667756+-0.006701221507453466\n"
     ]
    }
   ],
   "source": [
    "gb_classifier = Pipeline([\n",
    "    ('features',feats),\n",
    "    ('gb_classifier', GradientBoostingClassifier(n_estimators = 70, max_depth = 5, min_samples_leaf=15, random_state = 42)),\n",
    "])\n",
    "\n",
    "#запустим кросс-валидацию\n",
    "gb_cv_scores = cross_val_score(gb_classifier, X_train, y_train, cv=16, scoring='roc_auc')\n",
    "gb_cv_score = np.mean(gb_cv_scores)\n",
    "gb_cv_score_std = np.std(gb_cv_scores)\n",
    "print('CV score is {}+-{}'.format(gb_cv_score, gb_cv_score_std))"
   ]
  },
  {
   "cell_type": "code",
   "execution_count": 15,
   "id": "876d7534",
   "metadata": {},
   "outputs": [],
   "source": [
    "def evaluate_prediction(classifier, X_train, y_train, X_test, y_test, b=1):\n",
    "    classifier.fit(X_train, y_train)\n",
    "    preds = classifier.predict_proba(X_test)[:, 1]\n",
    "    \n",
    "    #Определим метрики\n",
    "    precision, recall, threshold = precision_recall_curve(y_test, preds)\n",
    "    fscore = (1+b**2)*(precision * recall) / (b**2*precision + recall)\n",
    "    ix = np.argmax(fscore)\n",
    "    \n",
    "    return precision[ix], recall[ix], fscore[ix], roc_auc_score(y_test, preds)"
   ]
  },
  {
   "cell_type": "code",
   "execution_count": 16,
   "id": "cc1298ae",
   "metadata": {},
   "outputs": [],
   "source": [
    "logreg_prec, logreg_rec, logreg_fscore, logreg_roc_auc = evaluate_prediction(classifier, X_train, y_train, X_test, y_test)\n",
    "rf_prec, rf_rec, rf_fscore, rf_roc_auc = evaluate_prediction(rf_classifier, X_train, y_train, X_test, y_test)\n",
    "gb_prec, gb_rec, gb_fscore, gb_roc_auc = evaluate_prediction(gb_classifier, X_train, y_train, X_test, y_test)"
   ]
  },
  {
   "cell_type": "markdown",
   "id": "bbc336a4",
   "metadata": {},
   "source": [
    "3. Вывести сравнение полученных моделей по основным метрикам классификации: pr/rec/auc/f_score (можно в виде таблицы, где строки - модели, а столбцы - метрики)"
   ]
  },
  {
   "cell_type": "code",
   "execution_count": 17,
   "id": "f065ec7b",
   "metadata": {},
   "outputs": [
    {
     "data": {
      "text/html": [
       "<div>\n",
       "<style scoped>\n",
       "    .dataframe tbody tr th:only-of-type {\n",
       "        vertical-align: middle;\n",
       "    }\n",
       "\n",
       "    .dataframe tbody tr th {\n",
       "        vertical-align: top;\n",
       "    }\n",
       "\n",
       "    .dataframe thead th {\n",
       "        text-align: right;\n",
       "    }\n",
       "</style>\n",
       "<table border=\"1\" class=\"dataframe\">\n",
       "  <thead>\n",
       "    <tr style=\"text-align: right;\">\n",
       "      <th></th>\n",
       "      <th>classifier</th>\n",
       "      <th>precision</th>\n",
       "      <th>recall</th>\n",
       "      <th>f score</th>\n",
       "      <th>roc auc score</th>\n",
       "    </tr>\n",
       "  </thead>\n",
       "  <tbody>\n",
       "    <tr>\n",
       "      <th>0</th>\n",
       "      <td>Logistic Regression</td>\n",
       "      <td>0.647431</td>\n",
       "      <td>0.837558</td>\n",
       "      <td>0.730323</td>\n",
       "      <td>0.784035</td>\n",
       "    </tr>\n",
       "    <tr>\n",
       "      <th>1</th>\n",
       "      <td>Random Forest</td>\n",
       "      <td>0.642669</td>\n",
       "      <td>0.815553</td>\n",
       "      <td>0.718863</td>\n",
       "      <td>0.771037</td>\n",
       "    </tr>\n",
       "    <tr>\n",
       "      <th>2</th>\n",
       "      <td>Gradient Boosting</td>\n",
       "      <td>0.661640</td>\n",
       "      <td>0.839171</td>\n",
       "      <td>0.739906</td>\n",
       "      <td>0.802745</td>\n",
       "    </tr>\n",
       "  </tbody>\n",
       "</table>\n",
       "</div>"
      ],
      "text/plain": [
       "            classifier  precision    recall   f score  roc auc score\n",
       "0  Logistic Regression   0.647431  0.837558  0.730323       0.784035\n",
       "1        Random Forest   0.642669  0.815553  0.718863       0.771037\n",
       "2    Gradient Boosting   0.661640  0.839171  0.739906       0.802745"
      ]
     },
     "execution_count": 17,
     "metadata": {},
     "output_type": "execute_result"
    }
   ],
   "source": [
    "comparing_results = pd.DataFrame({\n",
    "    'classifier': ['Logistic Regression', 'Random Forest', 'Gradient Boosting'],\n",
    "    'precision': [logreg_prec, rf_prec, gb_prec],\n",
    "    'recall': [logreg_rec, rf_rec, gb_rec],\n",
    "    'f score': [logreg_fscore, rf_fscore, gb_fscore],\n",
    "    'roc auc score': [logreg_roc_auc, rf_roc_auc, gb_roc_auc]\n",
    "})\n",
    "\n",
    "comparing_results"
   ]
  },
  {
   "cell_type": "code",
   "execution_count": null,
   "id": "093cd538",
   "metadata": {},
   "outputs": [],
   "source": []
  }
 ],
 "metadata": {
  "kernelspec": {
   "display_name": "Python 3",
   "language": "python",
   "name": "python3"
  },
  "language_info": {
   "codemirror_mode": {
    "name": "ipython",
    "version": 3
   },
   "file_extension": ".py",
   "mimetype": "text/x-python",
   "name": "python",
   "nbconvert_exporter": "python",
   "pygments_lexer": "ipython3",
   "version": "3.8.8"
  }
 },
 "nbformat": 4,
 "nbformat_minor": 5
}
