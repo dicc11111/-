{
 "cells": [
  {
   "cell_type": "markdown",
   "id": "cee0ee58",
   "metadata": {},
   "source": [
    "\n",
    "# Урок 6. Задача look-alike\n",
    "Взять любой набор данных для бинарной классификации (можно скачать один из модельных с https://archive.ics.uci.edu/ml/datasets.php)\n",
    "Обучить любой классификатор (какой вам нравится)\n",
    "Разделить ваш набор данных на два множества: P (positives) и U (unlabeled). Причем брать нужно не все положительные примеры (класс 1), а только лишь часть\n",
    "Применить random negative sampling для построения классификатора в новых условиях\n",
    "Сравнить качество с решением из пункта 3 (построить отчет - таблицу метрик)\n",
    "*Поэкспериментировать с долей P на шаге 5 (как будет меняться качество модели при уменьшении/увеличении размера P)"
   ]
  },
  {
   "cell_type": "markdown",
   "id": "4a9db929",
   "metadata": {},
   "source": [
    "набора данных Qualitative_Bankruptcy "
   ]
  },
  {
   "cell_type": "code",
   "execution_count": 4,
   "id": "6ec3d9a7",
   "metadata": {},
   "outputs": [
    {
     "data": {
      "text/html": [
       "<div>\n",
       "<style scoped>\n",
       "    .dataframe tbody tr th:only-of-type {\n",
       "        vertical-align: middle;\n",
       "    }\n",
       "\n",
       "    .dataframe tbody tr th {\n",
       "        vertical-align: top;\n",
       "    }\n",
       "\n",
       "    .dataframe thead th {\n",
       "        text-align: right;\n",
       "    }\n",
       "</style>\n",
       "<table border=\"1\" class=\"dataframe\">\n",
       "  <thead>\n",
       "    <tr style=\"text-align: right;\">\n",
       "      <th></th>\n",
       "      <th>Industrial Risk</th>\n",
       "      <th>Management Risk</th>\n",
       "      <th>Financial Flexibility</th>\n",
       "      <th>Credibility</th>\n",
       "      <th>Competitiveness</th>\n",
       "      <th>Operating Risk</th>\n",
       "      <th>Class</th>\n",
       "    </tr>\n",
       "  </thead>\n",
       "  <tbody>\n",
       "    <tr>\n",
       "      <th>0</th>\n",
       "      <td>P</td>\n",
       "      <td>P</td>\n",
       "      <td>A</td>\n",
       "      <td>A</td>\n",
       "      <td>A</td>\n",
       "      <td>P</td>\n",
       "      <td>NB</td>\n",
       "    </tr>\n",
       "    <tr>\n",
       "      <th>1</th>\n",
       "      <td>N</td>\n",
       "      <td>N</td>\n",
       "      <td>A</td>\n",
       "      <td>A</td>\n",
       "      <td>A</td>\n",
       "      <td>N</td>\n",
       "      <td>NB</td>\n",
       "    </tr>\n",
       "    <tr>\n",
       "      <th>2</th>\n",
       "      <td>A</td>\n",
       "      <td>A</td>\n",
       "      <td>A</td>\n",
       "      <td>A</td>\n",
       "      <td>A</td>\n",
       "      <td>A</td>\n",
       "      <td>NB</td>\n",
       "    </tr>\n",
       "  </tbody>\n",
       "</table>\n",
       "</div>"
      ],
      "text/plain": [
       "  Industrial Risk Management Risk Financial Flexibility Credibility  \\\n",
       "0               P               P                     A           A   \n",
       "1               N               N                     A           A   \n",
       "2               A               A                     A           A   \n",
       "\n",
       "  Competitiveness Operating Risk Class  \n",
       "0               A              P    NB  \n",
       "1               A              N    NB  \n",
       "2               A              A    NB  "
      ]
     },
     "execution_count": 4,
     "metadata": {},
     "output_type": "execute_result"
    }
   ],
   "source": [
    "import pandas as pd\n",
    "import numpy as np\n",
    "data = pd.read_csv(\"C:/Users/Home/OneDrive/Рабочий стол/dataset_MO/Qualitative_Bankruptcy/Qualitative_Bankruptcy.data.txt\", header=None)\n",
    "data.columns=['Industrial Risk', 'Management Risk', 'Financial Flexibility', \n",
    "              'Credibility','Competitiveness', 'Operating Risk','Class']\n",
    "data.head(3)"
   ]
  },
  {
   "cell_type": "code",
   "execution_count": 5,
   "id": "1849e140",
   "metadata": {},
   "outputs": [
    {
     "name": "stdout",
     "output_type": "stream",
     "text": [
      "(250, 7)\n"
     ]
    }
   ],
   "source": [
    "print(data.shape)"
   ]
  },
  {
   "cell_type": "code",
   "execution_count": 9,
   "id": "1acfe57b",
   "metadata": {},
   "outputs": [],
   "source": [
    "#P=Positive,A-Average,N-negative\n",
    "mapping = {'P': 1,'A': 0,'N': -1,'B': -1,'NB': 1}\n",
    "\n",
    "df=pd.DataFrame()\n",
    "\n",
    "\n",
    "for column in data.columns:\n",
    "    df[column]=data[column].map(mapping)\n",
    "    \n",
    "# суммарный риск и 2 сумма (Credibility + Competitiveness)\n",
    "df['F1'] = (df['Industrial Risk']+df['Management Risk']+df['Operating Risk'])\n",
    "df['F2'] = (df['Credibility']+df['Competitiveness'])\n",
    "\n",
    "# целевой столбец последний\n",
    "cols = list(df.columns)\n",
    "a, b = cols.index('Class'), cols.index('F2')\n",
    "cols[b], cols[a] = cols[a], cols[b]\n",
    "df = df[cols]\n"
   ]
  },
  {
   "cell_type": "code",
   "execution_count": 10,
   "id": "b582bc6a",
   "metadata": {},
   "outputs": [
    {
     "data": {
      "text/plain": [
       " 1    143\n",
       "-1    107\n",
       "Name: Class, dtype: int64"
      ]
     },
     "execution_count": 10,
     "metadata": {},
     "output_type": "execute_result"
    }
   ],
   "source": [
    "df['Class'].value_counts()\n",
    "# 1 = Не банкрот\n",
    "# -1 = банкрот"
   ]
  },
  {
   "cell_type": "code",
   "execution_count": 11,
   "id": "aaa1a583",
   "metadata": {},
   "outputs": [],
   "source": [
    "from sklearn.model_selection import train_test_split\n",
    "\n",
    "y_data = df['Class']\n",
    "x_data = df.drop(columns='Class')\n",
    "\n",
    "\n",
    "x_train, x_test, y_train, y_test = train_test_split(x_data, y_data, test_size=0.2, random_state=7)"
   ]
  },
  {
   "cell_type": "code",
   "execution_count": 12,
   "id": "5777381a",
   "metadata": {},
   "outputs": [],
   "source": [
    "from sklearn.neighbors import KNeighborsClassifier\n",
    "model = KNeighborsClassifier(n_neighbors=2)\n",
    "\n",
    "model.fit(x_train, y_train)\n",
    "y_predict = model.predict(x_test)"
   ]
  },
  {
   "cell_type": "code",
   "execution_count": 13,
   "id": "27717e63",
   "metadata": {},
   "outputs": [
    {
     "name": "stdout",
     "output_type": "stream",
     "text": [
      "Classification results:\n",
      "f1: 100.00%\n",
      "roc: 100.00%\n",
      "recall: 100.00%\n",
      "precision: 100.00%\n"
     ]
    }
   ],
   "source": [
    "from sklearn.metrics import recall_score, precision_score, roc_auc_score, accuracy_score, f1_score\n",
    "\n",
    "def evaluate_results(y_test, y_predict):\n",
    "    print('Classification results:')\n",
    "    f1 = f1_score(y_test, y_predict)\n",
    "    print(\"f1: %.2f%%\" % (f1 * 100.0)) \n",
    "    roc = roc_auc_score(y_test, y_predict)\n",
    "    print(\"roc: %.2f%%\" % (roc * 100.0)) \n",
    "    rec = recall_score(y_test, y_predict, average='binary')\n",
    "    print(\"recall: %.2f%%\" % (rec * 100.0)) \n",
    "    prc = precision_score(y_test, y_predict, average='binary')\n",
    "    print(\"precision: %.2f%%\" % (prc * 100.0)) \n",
    "    return [f1,roc,rec,prc]\n",
    "\n",
    "result= evaluate_results(y_test, y_predict)\n",
    "result.append('step4')\n",
    "A = pd.DataFrame([result],columns=['f1', 'roc', 'recall', 'precision','Model'])"
   ]
  },
  {
   "cell_type": "code",
   "execution_count": 14,
   "id": "23b41db3",
   "metadata": {},
   "outputs": [
    {
     "name": "stdout",
     "output_type": "stream",
     "text": [
      "Using 8/143 as positives and unlabeling the rest\n"
     ]
    }
   ],
   "source": [
    "share = .05\n",
    "\n",
    "mod_data = df.copy()\n",
    "#get the indices of the positives samples\n",
    "P = np.where(mod_data['Class'].values == 1)[0]\n",
    "#shuffle them\n",
    "np.random.shuffle(P)\n",
    "# leave just share% of the positives marked\n",
    "P_len = int(np.ceil(share * len(P)))\n",
    "print(f'Using {P_len}/{len(P)} as positives and unlabeling the rest')\n",
    "P_sample = P[:P_len]"
   ]
  },
  {
   "cell_type": "code",
   "execution_count": 15,
   "id": "236a5185",
   "metadata": {},
   "outputs": [
    {
     "name": "stdout",
     "output_type": "stream",
     "text": [
      "target variable:\n",
      " -1    242\n",
      " 1      8\n",
      "Name: class_test, dtype: int64\n"
     ]
    }
   ],
   "source": [
    "# столбец для новой целевой переменной, где у нас два класса - P (1) и U (-1)\n",
    "mod_data['class_test'] = -1\n",
    "mod_data.loc[P_sample,'class_test'] = 1\n",
    "print('target variable:\\n', mod_data['class_test'].value_counts())"
   ]
  },
  {
   "cell_type": "code",
   "execution_count": 16,
   "id": "8423a8d4",
   "metadata": {},
   "outputs": [],
   "source": [
    "x_data = mod_data.iloc[:,:-2].values # just the X \n",
    "y_labeled = mod_data.class_test.values # new class (just the P & U)\n",
    "y_positive = mod_data.Class.values # original class"
   ]
  },
  {
   "cell_type": "code",
   "execution_count": 17,
   "id": "4e94bc3e",
   "metadata": {},
   "outputs": [
    {
     "name": "stdout",
     "output_type": "stream",
     "text": [
      "(8, 10) (8, 10)\n"
     ]
    }
   ],
   "source": [
    "mod_data = mod_data.sample(frac=1)\n",
    "\n",
    "neg_sample = mod_data[mod_data['class_test']==-1][:len(mod_data[mod_data['class_test']==1])]\n",
    "sample_test = mod_data[mod_data['class_test']==-1][len(mod_data[mod_data['class_test']==1]):]\n",
    "pos_sample = mod_data[mod_data['class_test']==1]\n",
    "print(neg_sample.shape, pos_sample.shape)\n",
    "sample_train = pd.concat([neg_sample, pos_sample]).sample(frac=1)"
   ]
  },
  {
   "cell_type": "code",
   "execution_count": 18,
   "id": "a35deff5",
   "metadata": {},
   "outputs": [
    {
     "name": "stdout",
     "output_type": "stream",
     "text": [
      "Classification results:\n",
      "f1: 98.86%\n",
      "roc: 98.87%\n",
      "recall: 97.74%\n",
      "precision: 100.00%\n"
     ]
    }
   ],
   "source": [
    "model = KNeighborsClassifier(n_neighbors=2)\n",
    "\n",
    "model.fit(sample_train.iloc[:,:-2].values, \n",
    "          sample_train.iloc[:,-2].values)\n",
    "y_predict = model.predict(sample_test.iloc[:,:-2].values)\n",
    "\n",
    "result= evaluate_results(sample_test.iloc[:,-2].values, y_predict)\n",
    "result.append('last step')\n",
    "B = pd.DataFrame([result],columns=['f1', 'roc', 'recall', 'precision','Model'])"
   ]
  },
  {
   "cell_type": "code",
   "execution_count": 19,
   "id": "cfb042f5",
   "metadata": {},
   "outputs": [
    {
     "data": {
      "text/html": [
       "<div>\n",
       "<style scoped>\n",
       "    .dataframe tbody tr th:only-of-type {\n",
       "        vertical-align: middle;\n",
       "    }\n",
       "\n",
       "    .dataframe tbody tr th {\n",
       "        vertical-align: top;\n",
       "    }\n",
       "\n",
       "    .dataframe thead th {\n",
       "        text-align: right;\n",
       "    }\n",
       "</style>\n",
       "<table border=\"1\" class=\"dataframe\">\n",
       "  <thead>\n",
       "    <tr style=\"text-align: right;\">\n",
       "      <th></th>\n",
       "      <th>Model</th>\n",
       "      <th>f1</th>\n",
       "      <th>roc</th>\n",
       "      <th>recall</th>\n",
       "      <th>precision</th>\n",
       "    </tr>\n",
       "  </thead>\n",
       "  <tbody>\n",
       "    <tr>\n",
       "      <th>0</th>\n",
       "      <td>step4</td>\n",
       "      <td>1.000000</td>\n",
       "      <td>1.000000</td>\n",
       "      <td>1.000000</td>\n",
       "      <td>1.0</td>\n",
       "    </tr>\n",
       "    <tr>\n",
       "      <th>0</th>\n",
       "      <td>last step</td>\n",
       "      <td>0.988593</td>\n",
       "      <td>0.988722</td>\n",
       "      <td>0.977444</td>\n",
       "      <td>1.0</td>\n",
       "    </tr>\n",
       "  </tbody>\n",
       "</table>\n",
       "</div>"
      ],
      "text/plain": [
       "       Model        f1       roc    recall  precision\n",
       "0      step4  1.000000  1.000000  1.000000        1.0\n",
       "0  last step  0.988593  0.988722  0.977444        1.0"
      ]
     },
     "execution_count": 19,
     "metadata": {},
     "output_type": "execute_result"
    }
   ],
   "source": [
    "AB = A.append(B)\n",
    "AB = AB[['Model','f1', 'roc', 'recall', 'precision']]\n",
    "AB"
   ]
  },
  {
   "cell_type": "code",
   "execution_count": null,
   "id": "ce099eea",
   "metadata": {},
   "outputs": [],
   "source": []
  }
 ],
 "metadata": {
  "kernelspec": {
   "display_name": "Python 3",
   "language": "python",
   "name": "python3"
  },
  "language_info": {
   "codemirror_mode": {
    "name": "ipython",
    "version": 3
   },
   "file_extension": ".py",
   "mimetype": "text/x-python",
   "name": "python",
   "nbconvert_exporter": "python",
   "pygments_lexer": "ipython3",
   "version": "3.8.8"
  }
 },
 "nbformat": 4,
 "nbformat_minor": 5
}
